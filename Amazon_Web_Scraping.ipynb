{
  "nbformat": 4,
  "nbformat_minor": 0,
  "metadata": {
    "colab": {
      "name": " Amazon Web Scraping.ipynb",
      "provenance": []
    },
    "kernelspec": {
      "name": "python3",
      "display_name": "Python 3"
    },
    "language_info": {
      "name": "python"
    }
  },
  "cells": [
    {
      "cell_type": "code",
      "execution_count": 37,
      "metadata": {
        "id": "wsGBmjT-ZJeS"
      },
      "outputs": [],
      "source": [
        "import requests\n",
        "import time\n",
        "import datetime\n",
        "import pandas as pd\n",
        "from bs4 import BeautifulSoup\n",
        "import csv"
      ]
    },
    {
      "cell_type": "code",
      "source": [
        "#Connect to webside \n",
        "URL = 'https://www.amazon.com/Hydro-Flask-oz-Insulated-Press/dp/B097CXX66R/ref=sr_1_33_sspa?crid=3RGJMT2ELB3US&keywords=coffee+mugs&qid=1658502177&sprefix=coffee+mugs%2Caps%2C355&sr=8-33-spons&psc=1&spLa=ZW5jcnlwdGVkUXVhbGlmaWVyPUEyQlNGUU9FUjM2RDRMJmVuY3J5cHRlZElkPUEwOTQ5MzE3TExCQjZKM0ZXU1RIJmVuY3J5cHRlZEFkSWQ9QTA5MTM5MjE5MFBQSElMSjJENEMmd2lkZ2V0TmFtZT1zcF9tdGYmYWN0aW9uPWNsaWNrUmVkaXJlY3QmZG9Ob3RMb2dDbGljaz10cnVl'\n",
        "headers = { \"User-Agent\": \"Mozilla/5.0 (Windows NT 10.0; Win64; x64) AppleWebKit/537.36 (KHTML, like Gecko) Chrome/103.0.0.0 Safari/537.36\",  \"Accept-Encoding\":\"gzip, deflate\", \"Accept\":\"text/html,application/xhtml+xml,application/xml;q=0.9,*/*;q=0.8\", \"DNT\":\"1\",\"Connection\":\"close\", \"Upgrade-Insecure-Requests\":\"1\"}\n",
        "page = requests.get(URL,headers=headers)\n",
        "soup1 = BeautifulSoup(page.content, \"html.parser\")\n",
        "soup2 = BeautifulSoup(soup1.prettify(),\"html.parser\")\n",
        "\n",
        "title  = soup2.find(id = 'productTitle').get_text()\n",
        "\n",
        "price = soup2.find('span', class_='a-offscreen').get_text()\n",
        "\n",
        "rating  = soup2.find(id = 'acrPopover').get_text()\n",
        "\n",
        "title = title.strip()\n",
        "price = price.strip()[1:]\n",
        "rating = rating.strip()[:3]\n",
        "today = datetime.date.today()\n",
        "\n",
        "print(title)\n",
        "print(price)\n",
        "print(rating)"
      ],
      "metadata": {
        "colab": {
          "base_uri": "https://localhost:8080/"
        },
        "id": "mzMCNJYDZ2uu",
        "outputId": "5e5f9b7f-16aa-4a5d-be08-f72df67967ae"
      },
      "execution_count": 22,
      "outputs": [
        {
          "output_type": "stream",
          "name": "stdout",
          "text": [
            "Hydro Flask Mug - Stainless Steel Reusable Tea Coffee Travel Mug - Vacuum Insulated\n",
            "19.95\n",
            "4.7\n"
          ]
        }
      ]
    },
    {
      "cell_type": "code",
      "source": [
        "#Writing data to csv\n",
        "header = ['Product','Price','Rating','Date']\n",
        "data = [title,price,rating,today]\n",
        "\n",
        "with open('AmazonMugdataset.csv','w',newline='',encoding=\"UTF8\") as f:\n",
        "  writer = csv.writer(f)\n",
        "  writer.writerow(header)\n",
        "  writer.writerow(data) "
      ],
      "metadata": {
        "id": "Poh_n6P7kxXH"
      },
      "execution_count": 30,
      "outputs": []
    },
    {
      "cell_type": "code",
      "source": [
        "#Appending data to csv\n",
        "with open('AmazonMugdataset.csv','a+',newline='',encoding=\"UTF8\") as f:\n",
        "  writer = csv.writer(f)\n",
        "  writer.writerow(data) "
      ],
      "metadata": {
        "id": "VOxr73uOwa7i"
      },
      "execution_count": 33,
      "outputs": []
    },
    {
      "cell_type": "code",
      "source": [
        "#Checking csv after append\n",
        "df = pd.read_csv(r'/content/AmazonMugdataset.csv')\n",
        "print(df)"
      ],
      "metadata": {
        "colab": {
          "base_uri": "https://localhost:8080/"
        },
        "id": "Vg3J8jVanaMA",
        "outputId": "bebefe71-c40d-4f02-808a-2c24853b0fa4"
      },
      "execution_count": 34,
      "outputs": [
        {
          "output_type": "stream",
          "name": "stdout",
          "text": [
            "                                             Product  Price  Rating  \\\n",
            "0  Hydro Flask Mug - Stainless Steel Reusable Tea...  19.95     4.7   \n",
            "1  Hydro Flask Mug - Stainless Steel Reusable Tea...  19.95     4.7   \n",
            "2  Hydro Flask Mug - Stainless Steel Reusable Tea...  19.95     4.7   \n",
            "\n",
            "         Date  \n",
            "0  2022-07-22  \n",
            "1  2022-07-22  \n",
            "2  2022-07-22  \n"
          ]
        }
      ]
    },
    {
      "cell_type": "code",
      "source": [
        "#Creating a Automated system to check price once a day\n",
        "def check_price():\n",
        "  URL = 'https://www.amazon.com/Hydro-Flask-oz-Insulated-Press/dp/B097CXX66R/ref=sr_1_33_sspa?crid=3RGJMT2ELB3US&keywords=coffee+mugs&qid=1658502177&sprefix=coffee+mugs%2Caps%2C355&sr=8-33-spons&psc=1&spLa=ZW5jcnlwdGVkUXVhbGlmaWVyPUEyQlNGUU9FUjM2RDRMJmVuY3J5cHRlZElkPUEwOTQ5MzE3TExCQjZKM0ZXU1RIJmVuY3J5cHRlZEFkSWQ9QTA5MTM5MjE5MFBQSElMSjJENEMmd2lkZ2V0TmFtZT1zcF9tdGYmYWN0aW9uPWNsaWNrUmVkaXJlY3QmZG9Ob3RMb2dDbGljaz10cnVl'\n",
        "  headers = { \"User-Agent\": \"Mozilla/5.0 (Windows NT 10.0; Win64; x64) AppleWebKit/537.36 (KHTML, like Gecko) Chrome/103.0.0.0 Safari/537.36\",  \"Accept-Encoding\":\"gzip, deflate\", \"Accept\":\"text/html,application/xhtml+xml,application/xml;q=0.9,*/*;q=0.8\", \"DNT\":\"1\",\"Connection\":\"close\", \"Upgrade-Insecure-Requests\":\"1\"}\n",
        "  page = requests.get(URL,headers=headers)\n",
        "  soup1 = BeautifulSoup(page.content, \"html.parser\")\n",
        "  soup2 = BeautifulSoup(soup1.prettify(),\"html.parser\")\n",
        "\n",
        "  title  = soup2.find(id = 'productTitle').get_text()\n",
        "\n",
        "  price = soup2.find('span', class_='a-offscreen').get_text()\n",
        "\n",
        "  rating  = soup2.find(id = 'acrPopover').get_text()\n",
        "\n",
        "  title = title.strip()\n",
        "  price = price.strip()[1:]\n",
        "  rating = rating.strip()[:3]\n",
        "  today = datetime.date.today()\n",
        "\n",
        "  header = ['Product','Price','Rating','Date']\n",
        "  data = [title,price,rating,today]\n",
        "  with open('AmazonMugdataset.csv','a+',newline='',encoding=\"UTF8\") as f:\n",
        "    writer = csv.writer(f)\n",
        "    writer.writerow(data)"
      ],
      "metadata": {
        "id": "2ryCvB4kyXCC"
      },
      "execution_count": 38,
      "outputs": []
    },
    {
      "cell_type": "code",
      "source": [
        "#Checking price once a day\n",
        "while(True):\n",
        "  check_price()\n",
        "  time.sleep(86400)"
      ],
      "metadata": {
        "id": "12etep233a6_"
      },
      "execution_count": null,
      "outputs": []
    }
  ]
}