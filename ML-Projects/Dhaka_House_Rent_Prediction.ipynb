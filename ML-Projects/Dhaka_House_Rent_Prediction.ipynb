{
 "cells": [
  {
   "cell_type": "code",
   "execution_count": null,
   "metadata": {
    "id": "By9gLOz9FsDm"
   },
   "outputs": [],
   "source": [
    "import pandas as pd\n",
    "import numpy as np\n",
    "from decimal import Decimal\n",
    "from matplotlib import pyplot as plt\n",
    "%matplotlib inline\n",
    "import matplotlib \n",
    "matplotlib.rcParams[\"figure.figsize\"] = (20,10)\n",
    "from sklearn.model_selection import ShuffleSplit\n",
    "from sklearn.model_selection import cross_val_score\n",
    "from sklearn.linear_model import LinearRegression\n",
    "from sklearn.model_selection import train_test_split"
   ]
  },
  {
   "cell_type": "code",
   "execution_count": null,
   "metadata": {
    "id": "qcL-XKkRFsDs",
    "outputId": "1dc07feb-b98c-4538-d338-de30874056b0"
   },
   "outputs": [
    {
     "data": {
      "text/html": [
       "<div>\n",
       "<style scoped>\n",
       "    .dataframe tbody tr th:only-of-type {\n",
       "        vertical-align: middle;\n",
       "    }\n",
       "\n",
       "    .dataframe tbody tr th {\n",
       "        vertical-align: top;\n",
       "    }\n",
       "\n",
       "    .dataframe thead th {\n",
       "        text-align: right;\n",
       "    }\n",
       "</style>\n",
       "<table border=\"1\" class=\"dataframe\">\n",
       "  <thead>\n",
       "    <tr style=\"text-align: right;\">\n",
       "      <th></th>\n",
       "      <th>Unnamed: 0</th>\n",
       "      <th>Location</th>\n",
       "      <th>Area</th>\n",
       "      <th>Bed</th>\n",
       "      <th>Bath</th>\n",
       "      <th>Price</th>\n",
       "    </tr>\n",
       "  </thead>\n",
       "  <tbody>\n",
       "    <tr>\n",
       "      <th>0</th>\n",
       "      <td>0</td>\n",
       "      <td>Block H, Bashundhara R-A, Dhaka</td>\n",
       "      <td>1,600 sqft</td>\n",
       "      <td>3</td>\n",
       "      <td>3</td>\n",
       "      <td>20 Thousand</td>\n",
       "    </tr>\n",
       "    <tr>\n",
       "      <th>1</th>\n",
       "      <td>1</td>\n",
       "      <td>Farmgate, Tejgaon, Dhaka</td>\n",
       "      <td>900 sqft</td>\n",
       "      <td>2</td>\n",
       "      <td>2</td>\n",
       "      <td>20 Thousand</td>\n",
       "    </tr>\n",
       "    <tr>\n",
       "      <th>2</th>\n",
       "      <td>2</td>\n",
       "      <td>Block B, Nobodoy Housing Society, Mohammadpur,...</td>\n",
       "      <td>1,250 sqft</td>\n",
       "      <td>3</td>\n",
       "      <td>3</td>\n",
       "      <td>18 Thousand</td>\n",
       "    </tr>\n",
       "    <tr>\n",
       "      <th>3</th>\n",
       "      <td>3</td>\n",
       "      <td>Gulshan 1, Gulshan, Dhaka</td>\n",
       "      <td>2,200 sqft</td>\n",
       "      <td>3</td>\n",
       "      <td>4</td>\n",
       "      <td>75 Thousand</td>\n",
       "    </tr>\n",
       "    <tr>\n",
       "      <th>4</th>\n",
       "      <td>4</td>\n",
       "      <td>Baridhara, Dhaka</td>\n",
       "      <td>2,200 sqft</td>\n",
       "      <td>3</td>\n",
       "      <td>3</td>\n",
       "      <td>75 Thousand</td>\n",
       "    </tr>\n",
       "  </tbody>\n",
       "</table>\n",
       "</div>"
      ],
      "text/plain": [
       "   Unnamed: 0                                           Location        Area  \\\n",
       "0           0                    Block H, Bashundhara R-A, Dhaka  1,600 sqft   \n",
       "1           1                           Farmgate, Tejgaon, Dhaka    900 sqft   \n",
       "2           2  Block B, Nobodoy Housing Society, Mohammadpur,...  1,250 sqft   \n",
       "3           3                          Gulshan 1, Gulshan, Dhaka  2,200 sqft   \n",
       "4           4                                   Baridhara, Dhaka  2,200 sqft   \n",
       "\n",
       "   Bed  Bath        Price  \n",
       "0    3     3  20 Thousand  \n",
       "1    2     2  20 Thousand  \n",
       "2    3     3  18 Thousand  \n",
       "3    3     4  75 Thousand  \n",
       "4    3     3  75 Thousand  "
      ]
     },
     "execution_count": 99,
     "metadata": {},
     "output_type": "execute_result"
    }
   ],
   "source": [
    "df = pd.read_csv(\"C:/Users/ThinkPad/Desktop/ML-Projects/houserentdhaka.csv\")\n",
    "df.head()"
   ]
  },
  {
   "cell_type": "code",
   "execution_count": null,
   "metadata": {
    "id": "gD4mWrYmFsDt",
    "outputId": "d2980fce-7b87-46b9-e377-88e4504f3109"
   },
   "outputs": [
    {
     "data": {
      "text/plain": [
       "(28800, 6)"
      ]
     },
     "execution_count": 100,
     "metadata": {},
     "output_type": "execute_result"
    }
   ],
   "source": [
    "df.shape"
   ]
  },
  {
   "cell_type": "code",
   "execution_count": null,
   "metadata": {
    "id": "S0mMq4G3FsDu"
   },
   "outputs": [],
   "source": [
    "#removing the unnamed column\n",
    "df = df.loc[:, ~df.columns.str.contains('^Unnamed')]"
   ]
  },
  {
   "cell_type": "code",
   "execution_count": null,
   "metadata": {
    "id": "WNUl1tBPFsDv",
    "outputId": "4a85e01f-c91d-42b8-8ffe-73346bd19007"
   },
   "outputs": [
    {
     "data": {
      "text/html": [
       "<div>\n",
       "<style scoped>\n",
       "    .dataframe tbody tr th:only-of-type {\n",
       "        vertical-align: middle;\n",
       "    }\n",
       "\n",
       "    .dataframe tbody tr th {\n",
       "        vertical-align: top;\n",
       "    }\n",
       "\n",
       "    .dataframe thead th {\n",
       "        text-align: right;\n",
       "    }\n",
       "</style>\n",
       "<table border=\"1\" class=\"dataframe\">\n",
       "  <thead>\n",
       "    <tr style=\"text-align: right;\">\n",
       "      <th></th>\n",
       "      <th>Location</th>\n",
       "      <th>Area</th>\n",
       "      <th>Bed</th>\n",
       "      <th>Bath</th>\n",
       "      <th>Price</th>\n",
       "    </tr>\n",
       "  </thead>\n",
       "  <tbody>\n",
       "    <tr>\n",
       "      <th>0</th>\n",
       "      <td>Block H, Bashundhara R-A, Dhaka</td>\n",
       "      <td>1600</td>\n",
       "      <td>3</td>\n",
       "      <td>3</td>\n",
       "      <td>20 Thousand</td>\n",
       "    </tr>\n",
       "    <tr>\n",
       "      <th>1</th>\n",
       "      <td>Farmgate, Tejgaon, Dhaka</td>\n",
       "      <td>900</td>\n",
       "      <td>2</td>\n",
       "      <td>2</td>\n",
       "      <td>20 Thousand</td>\n",
       "    </tr>\n",
       "    <tr>\n",
       "      <th>2</th>\n",
       "      <td>Block B, Nobodoy Housing Society, Mohammadpur,...</td>\n",
       "      <td>1250</td>\n",
       "      <td>3</td>\n",
       "      <td>3</td>\n",
       "      <td>18 Thousand</td>\n",
       "    </tr>\n",
       "    <tr>\n",
       "      <th>3</th>\n",
       "      <td>Gulshan 1, Gulshan, Dhaka</td>\n",
       "      <td>2200</td>\n",
       "      <td>3</td>\n",
       "      <td>4</td>\n",
       "      <td>75 Thousand</td>\n",
       "    </tr>\n",
       "    <tr>\n",
       "      <th>4</th>\n",
       "      <td>Baridhara, Dhaka</td>\n",
       "      <td>2200</td>\n",
       "      <td>3</td>\n",
       "      <td>3</td>\n",
       "      <td>75 Thousand</td>\n",
       "    </tr>\n",
       "  </tbody>\n",
       "</table>\n",
       "</div>"
      ],
      "text/plain": [
       "                                            Location  Area  Bed  Bath  \\\n",
       "0                    Block H, Bashundhara R-A, Dhaka  1600    3     3   \n",
       "1                           Farmgate, Tejgaon, Dhaka   900    2     2   \n",
       "2  Block B, Nobodoy Housing Society, Mohammadpur,...  1250    3     3   \n",
       "3                          Gulshan 1, Gulshan, Dhaka  2200    3     4   \n",
       "4                                   Baridhara, Dhaka  2200    3     3   \n",
       "\n",
       "         Price  \n",
       "0  20 Thousand  \n",
       "1  20 Thousand  \n",
       "2  18 Thousand  \n",
       "3  75 Thousand  \n",
       "4  75 Thousand  "
      ]
     },
     "execution_count": 174,
     "metadata": {},
     "output_type": "execute_result"
    }
   ],
   "source": [
    "df.head()"
   ]
  },
  {
   "cell_type": "code",
   "execution_count": null,
   "metadata": {
    "id": "TTnidv6dFsDw",
    "outputId": "52e8dc38-6f67-4ed6-e704-7f832d9489b6"
   },
   "outputs": [
    {
     "data": {
      "text/plain": [
       "Location    0\n",
       "Area        0\n",
       "Bed         0\n",
       "Bath        0\n",
       "Price       0\n",
       "dtype: int64"
      ]
     },
     "execution_count": 103,
     "metadata": {},
     "output_type": "execute_result"
    }
   ],
   "source": [
    "df.isnull().sum()"
   ]
  },
  {
   "cell_type": "code",
   "execution_count": null,
   "metadata": {
    "id": "ejWfftP7FsDx"
   },
   "outputs": [],
   "source": [
    "df['Area']=df['Area'].str.replace(',','')"
   ]
  },
  {
   "cell_type": "code",
   "execution_count": null,
   "metadata": {
    "id": "uAbJATlhFsDy",
    "outputId": "a76aee2f-da2e-4004-eeb8-26fd89f8952f"
   },
   "outputs": [
    {
     "data": {
      "text/html": [
       "<div>\n",
       "<style scoped>\n",
       "    .dataframe tbody tr th:only-of-type {\n",
       "        vertical-align: middle;\n",
       "    }\n",
       "\n",
       "    .dataframe tbody tr th {\n",
       "        vertical-align: top;\n",
       "    }\n",
       "\n",
       "    .dataframe thead th {\n",
       "        text-align: right;\n",
       "    }\n",
       "</style>\n",
       "<table border=\"1\" class=\"dataframe\">\n",
       "  <thead>\n",
       "    <tr style=\"text-align: right;\">\n",
       "      <th></th>\n",
       "      <th>Location</th>\n",
       "      <th>Area</th>\n",
       "      <th>Bed</th>\n",
       "      <th>Bath</th>\n",
       "      <th>Price</th>\n",
       "    </tr>\n",
       "  </thead>\n",
       "  <tbody>\n",
       "    <tr>\n",
       "      <th>0</th>\n",
       "      <td>Block H, Bashundhara R-A, Dhaka</td>\n",
       "      <td>1600 sqft</td>\n",
       "      <td>3</td>\n",
       "      <td>3</td>\n",
       "      <td>20 Thousand</td>\n",
       "    </tr>\n",
       "    <tr>\n",
       "      <th>1</th>\n",
       "      <td>Farmgate, Tejgaon, Dhaka</td>\n",
       "      <td>900 sqft</td>\n",
       "      <td>2</td>\n",
       "      <td>2</td>\n",
       "      <td>20 Thousand</td>\n",
       "    </tr>\n",
       "    <tr>\n",
       "      <th>2</th>\n",
       "      <td>Block B, Nobodoy Housing Society, Mohammadpur,...</td>\n",
       "      <td>1250 sqft</td>\n",
       "      <td>3</td>\n",
       "      <td>3</td>\n",
       "      <td>18 Thousand</td>\n",
       "    </tr>\n",
       "    <tr>\n",
       "      <th>3</th>\n",
       "      <td>Gulshan 1, Gulshan, Dhaka</td>\n",
       "      <td>2200 sqft</td>\n",
       "      <td>3</td>\n",
       "      <td>4</td>\n",
       "      <td>75 Thousand</td>\n",
       "    </tr>\n",
       "    <tr>\n",
       "      <th>4</th>\n",
       "      <td>Baridhara, Dhaka</td>\n",
       "      <td>2200 sqft</td>\n",
       "      <td>3</td>\n",
       "      <td>3</td>\n",
       "      <td>75 Thousand</td>\n",
       "    </tr>\n",
       "  </tbody>\n",
       "</table>\n",
       "</div>"
      ],
      "text/plain": [
       "                                            Location       Area  Bed  Bath  \\\n",
       "0                    Block H, Bashundhara R-A, Dhaka  1600 sqft    3     3   \n",
       "1                           Farmgate, Tejgaon, Dhaka   900 sqft    2     2   \n",
       "2  Block B, Nobodoy Housing Society, Mohammadpur,...  1250 sqft    3     3   \n",
       "3                          Gulshan 1, Gulshan, Dhaka  2200 sqft    3     4   \n",
       "4                                   Baridhara, Dhaka  2200 sqft    3     3   \n",
       "\n",
       "         Price  \n",
       "0  20 Thousand  \n",
       "1  20 Thousand  \n",
       "2  18 Thousand  \n",
       "3  75 Thousand  \n",
       "4  75 Thousand  "
      ]
     },
     "execution_count": 105,
     "metadata": {},
     "output_type": "execute_result"
    }
   ],
   "source": [
    "df.head()"
   ]
  },
  {
   "cell_type": "code",
   "execution_count": null,
   "metadata": {
    "id": "WDKT8Gn2FsDz"
   },
   "outputs": [],
   "source": [
    "#removing the sqft from the area and making them int values \n",
    "df['Area'] = df['Area'].apply(lambda x: int(x.split(' ')[0]))"
   ]
  },
  {
   "cell_type": "code",
   "execution_count": null,
   "metadata": {
    "id": "oMfA3F7qFsD0",
    "outputId": "85a7230f-2cad-4c7c-ba15-3820f636ec9e"
   },
   "outputs": [
    {
     "data": {
      "text/html": [
       "<div>\n",
       "<style scoped>\n",
       "    .dataframe tbody tr th:only-of-type {\n",
       "        vertical-align: middle;\n",
       "    }\n",
       "\n",
       "    .dataframe tbody tr th {\n",
       "        vertical-align: top;\n",
       "    }\n",
       "\n",
       "    .dataframe thead th {\n",
       "        text-align: right;\n",
       "    }\n",
       "</style>\n",
       "<table border=\"1\" class=\"dataframe\">\n",
       "  <thead>\n",
       "    <tr style=\"text-align: right;\">\n",
       "      <th></th>\n",
       "      <th>Location</th>\n",
       "      <th>Area</th>\n",
       "      <th>Bed</th>\n",
       "      <th>Bath</th>\n",
       "      <th>Price</th>\n",
       "    </tr>\n",
       "  </thead>\n",
       "  <tbody>\n",
       "    <tr>\n",
       "      <th>0</th>\n",
       "      <td>Block H, Bashundhara R-A, Dhaka</td>\n",
       "      <td>1600</td>\n",
       "      <td>3</td>\n",
       "      <td>3</td>\n",
       "      <td>20 Thousand</td>\n",
       "    </tr>\n",
       "    <tr>\n",
       "      <th>1</th>\n",
       "      <td>Farmgate, Tejgaon, Dhaka</td>\n",
       "      <td>900</td>\n",
       "      <td>2</td>\n",
       "      <td>2</td>\n",
       "      <td>20 Thousand</td>\n",
       "    </tr>\n",
       "    <tr>\n",
       "      <th>2</th>\n",
       "      <td>Block B, Nobodoy Housing Society, Mohammadpur,...</td>\n",
       "      <td>1250</td>\n",
       "      <td>3</td>\n",
       "      <td>3</td>\n",
       "      <td>18 Thousand</td>\n",
       "    </tr>\n",
       "    <tr>\n",
       "      <th>3</th>\n",
       "      <td>Gulshan 1, Gulshan, Dhaka</td>\n",
       "      <td>2200</td>\n",
       "      <td>3</td>\n",
       "      <td>4</td>\n",
       "      <td>75 Thousand</td>\n",
       "    </tr>\n",
       "    <tr>\n",
       "      <th>4</th>\n",
       "      <td>Baridhara, Dhaka</td>\n",
       "      <td>2200</td>\n",
       "      <td>3</td>\n",
       "      <td>3</td>\n",
       "      <td>75 Thousand</td>\n",
       "    </tr>\n",
       "  </tbody>\n",
       "</table>\n",
       "</div>"
      ],
      "text/plain": [
       "                                            Location  Area  Bed  Bath  \\\n",
       "0                    Block H, Bashundhara R-A, Dhaka  1600    3     3   \n",
       "1                           Farmgate, Tejgaon, Dhaka   900    2     2   \n",
       "2  Block B, Nobodoy Housing Society, Mohammadpur,...  1250    3     3   \n",
       "3                          Gulshan 1, Gulshan, Dhaka  2200    3     4   \n",
       "4                                   Baridhara, Dhaka  2200    3     3   \n",
       "\n",
       "         Price  \n",
       "0  20 Thousand  \n",
       "1  20 Thousand  \n",
       "2  18 Thousand  \n",
       "3  75 Thousand  \n",
       "4  75 Thousand  "
      ]
     },
     "execution_count": 107,
     "metadata": {},
     "output_type": "execute_result"
    }
   ],
   "source": [
    "df.head()"
   ]
  },
  {
   "cell_type": "code",
   "execution_count": null,
   "metadata": {
    "id": "vU9T5bh7FsD1",
    "outputId": "1782c7d9-337c-4ab5-d772-a52b0e85489c"
   },
   "outputs": [
    {
     "data": {
      "text/plain": [
       "array([3, 2, 4, 1, 5, 6], dtype=int64)"
      ]
     },
     "execution_count": 108,
     "metadata": {},
     "output_type": "execute_result"
    }
   ],
   "source": [
    "df.Bed.unique()"
   ]
  },
  {
   "cell_type": "code",
   "execution_count": null,
   "metadata": {
    "id": "dw2Q2ibFFsD2",
    "outputId": "a55f2492-98fe-4542-89a6-17636e7f356b"
   },
   "outputs": [
    {
     "data": {
      "text/plain": [
       "array([3, 2, 4, 5, 1, 6, 8], dtype=int64)"
      ]
     },
     "execution_count": 109,
     "metadata": {},
     "output_type": "execute_result"
    }
   ],
   "source": [
    "df.Bath.unique()"
   ]
  },
  {
   "cell_type": "code",
   "execution_count": null,
   "metadata": {
    "id": "5Rnx-Wn6FsD2",
    "outputId": "065c37ec-de05-4575-cc83-1f3ff8a8c422"
   },
   "outputs": [
    {
     "data": {
      "text/html": [
       "<div>\n",
       "<style scoped>\n",
       "    .dataframe tbody tr th:only-of-type {\n",
       "        vertical-align: middle;\n",
       "    }\n",
       "\n",
       "    .dataframe tbody tr th {\n",
       "        vertical-align: top;\n",
       "    }\n",
       "\n",
       "    .dataframe thead th {\n",
       "        text-align: right;\n",
       "    }\n",
       "</style>\n",
       "<table border=\"1\" class=\"dataframe\">\n",
       "  <thead>\n",
       "    <tr style=\"text-align: right;\">\n",
       "      <th></th>\n",
       "      <th>Location</th>\n",
       "      <th>Area</th>\n",
       "      <th>Bed</th>\n",
       "      <th>Bath</th>\n",
       "      <th>Price</th>\n",
       "    </tr>\n",
       "  </thead>\n",
       "  <tbody>\n",
       "    <tr>\n",
       "      <th>304</th>\n",
       "      <td>Gulshan 2, Gulshan, Dhaka</td>\n",
       "      <td>4500</td>\n",
       "      <td>6</td>\n",
       "      <td>6</td>\n",
       "      <td>2.8 Lakh</td>\n",
       "    </tr>\n",
       "    <tr>\n",
       "      <th>24464</th>\n",
       "      <td>Tejturi Bazar, Tejgaon, Dhaka</td>\n",
       "      <td>2450</td>\n",
       "      <td>6</td>\n",
       "      <td>6</td>\n",
       "      <td>60 Thousand</td>\n",
       "    </tr>\n",
       "  </tbody>\n",
       "</table>\n",
       "</div>"
      ],
      "text/plain": [
       "                            Location  Area  Bed  Bath        Price\n",
       "304        Gulshan 2, Gulshan, Dhaka  4500    6     6     2.8 Lakh\n",
       "24464  Tejturi Bazar, Tejgaon, Dhaka  2450    6     6  60 Thousand"
      ]
     },
     "execution_count": 110,
     "metadata": {},
     "output_type": "execute_result"
    }
   ],
   "source": [
    "df[df.Bed>5]"
   ]
  },
  {
   "cell_type": "code",
   "execution_count": null,
   "metadata": {
    "id": "EsqG9cLvFsD3",
    "outputId": "66a88ca3-748a-45a6-d73d-d67eb6e3e33b"
   },
   "outputs": [
    {
     "data": {
      "text/html": [
       "<div>\n",
       "<style scoped>\n",
       "    .dataframe tbody tr th:only-of-type {\n",
       "        vertical-align: middle;\n",
       "    }\n",
       "\n",
       "    .dataframe tbody tr th {\n",
       "        vertical-align: top;\n",
       "    }\n",
       "\n",
       "    .dataframe thead th {\n",
       "        text-align: right;\n",
       "    }\n",
       "</style>\n",
       "<table border=\"1\" class=\"dataframe\">\n",
       "  <thead>\n",
       "    <tr style=\"text-align: right;\">\n",
       "      <th></th>\n",
       "      <th>Location</th>\n",
       "      <th>Area</th>\n",
       "      <th>Bed</th>\n",
       "      <th>Bath</th>\n",
       "      <th>Price</th>\n",
       "    </tr>\n",
       "  </thead>\n",
       "  <tbody>\n",
       "    <tr>\n",
       "      <th>533</th>\n",
       "      <td>Gulshan 2, Gulshan, Dhaka</td>\n",
       "      <td>4200</td>\n",
       "      <td>4</td>\n",
       "      <td>8</td>\n",
       "      <td>3 Lakh</td>\n",
       "    </tr>\n",
       "  </tbody>\n",
       "</table>\n",
       "</div>"
      ],
      "text/plain": [
       "                      Location  Area  Bed  Bath   Price\n",
       "533  Gulshan 2, Gulshan, Dhaka  4200    4     8  3 Lakh"
      ]
     },
     "execution_count": 111,
     "metadata": {},
     "output_type": "execute_result"
    }
   ],
   "source": [
    "df[df.Bath>6] #8 baths!! noice but why????? "
   ]
  },
  {
   "cell_type": "code",
   "execution_count": null,
   "metadata": {
    "id": "Bj9myOHjFsD3"
   },
   "outputs": [],
   "source": [
    "df1 = df.copy()\n"
   ]
  },
  {
   "cell_type": "code",
   "execution_count": null,
   "metadata": {
    "id": "ORYFYGMTFsD4"
   },
   "outputs": [],
   "source": [
    "#I wanted the make the price Thousand/Lakh values to a float values\n",
    "def price_float(x):\n",
    "    y = x.split(' ')[1]\n",
    "    if y == \"Thousand\":\n",
    "        return float(x.split(' ')[0]) * 1000\n",
    "    else:\n",
    "        return float(x.split(' ')[0]) * 100000 "
   ]
  },
  {
   "cell_type": "code",
   "execution_count": null,
   "metadata": {
    "id": "uv1sPSjtFsD4"
   },
   "outputs": [],
   "source": [
    "df1.Price = df1.Price.apply(price_float)"
   ]
  },
  {
   "cell_type": "code",
   "execution_count": null,
   "metadata": {
    "id": "e5XYNqwdFsD5",
    "outputId": "a68245b3-594f-402a-9fff-52037e7f0ec5"
   },
   "outputs": [
    {
     "data": {
      "text/plain": [
       "Location    Gulshan 2, Gulshan, Dhaka\n",
       "Area                             4500\n",
       "Bed                                 6\n",
       "Bath                                6\n",
       "Price                          280000\n",
       "Name: 304, dtype: object"
      ]
     },
     "execution_count": 115,
     "metadata": {},
     "output_type": "execute_result"
    }
   ],
   "source": [
    "df1.loc[304]"
   ]
  },
  {
   "cell_type": "code",
   "execution_count": null,
   "metadata": {
    "id": "ZF03uWPnFsD5"
   },
   "outputs": [],
   "source": [
    "df1['price_per_sqft'] = df1['Price']/df1['Area']"
   ]
  },
  {
   "cell_type": "code",
   "execution_count": null,
   "metadata": {
    "id": "Jl7MUqa-FsD6",
    "outputId": "75d29711-60ae-4857-8039-a2536b57aec3"
   },
   "outputs": [
    {
     "data": {
      "text/html": [
       "<div>\n",
       "<style scoped>\n",
       "    .dataframe tbody tr th:only-of-type {\n",
       "        vertical-align: middle;\n",
       "    }\n",
       "\n",
       "    .dataframe tbody tr th {\n",
       "        vertical-align: top;\n",
       "    }\n",
       "\n",
       "    .dataframe thead th {\n",
       "        text-align: right;\n",
       "    }\n",
       "</style>\n",
       "<table border=\"1\" class=\"dataframe\">\n",
       "  <thead>\n",
       "    <tr style=\"text-align: right;\">\n",
       "      <th></th>\n",
       "      <th>Location</th>\n",
       "      <th>Area</th>\n",
       "      <th>Bed</th>\n",
       "      <th>Bath</th>\n",
       "      <th>Price</th>\n",
       "      <th>price_per_sqft</th>\n",
       "    </tr>\n",
       "  </thead>\n",
       "  <tbody>\n",
       "    <tr>\n",
       "      <th>0</th>\n",
       "      <td>Block H, Bashundhara R-A, Dhaka</td>\n",
       "      <td>1600</td>\n",
       "      <td>3</td>\n",
       "      <td>3</td>\n",
       "      <td>20000.0</td>\n",
       "      <td>12.500000</td>\n",
       "    </tr>\n",
       "    <tr>\n",
       "      <th>1</th>\n",
       "      <td>Farmgate, Tejgaon, Dhaka</td>\n",
       "      <td>900</td>\n",
       "      <td>2</td>\n",
       "      <td>2</td>\n",
       "      <td>20000.0</td>\n",
       "      <td>22.222222</td>\n",
       "    </tr>\n",
       "    <tr>\n",
       "      <th>2</th>\n",
       "      <td>Block B, Nobodoy Housing Society, Mohammadpur,...</td>\n",
       "      <td>1250</td>\n",
       "      <td>3</td>\n",
       "      <td>3</td>\n",
       "      <td>18000.0</td>\n",
       "      <td>14.400000</td>\n",
       "    </tr>\n",
       "    <tr>\n",
       "      <th>3</th>\n",
       "      <td>Gulshan 1, Gulshan, Dhaka</td>\n",
       "      <td>2200</td>\n",
       "      <td>3</td>\n",
       "      <td>4</td>\n",
       "      <td>75000.0</td>\n",
       "      <td>34.090909</td>\n",
       "    </tr>\n",
       "    <tr>\n",
       "      <th>4</th>\n",
       "      <td>Baridhara, Dhaka</td>\n",
       "      <td>2200</td>\n",
       "      <td>3</td>\n",
       "      <td>3</td>\n",
       "      <td>75000.0</td>\n",
       "      <td>34.090909</td>\n",
       "    </tr>\n",
       "  </tbody>\n",
       "</table>\n",
       "</div>"
      ],
      "text/plain": [
       "                                            Location  Area  Bed  Bath  \\\n",
       "0                    Block H, Bashundhara R-A, Dhaka  1600    3     3   \n",
       "1                           Farmgate, Tejgaon, Dhaka   900    2     2   \n",
       "2  Block B, Nobodoy Housing Society, Mohammadpur,...  1250    3     3   \n",
       "3                          Gulshan 1, Gulshan, Dhaka  2200    3     4   \n",
       "4                                   Baridhara, Dhaka  2200    3     3   \n",
       "\n",
       "     Price  price_per_sqft  \n",
       "0  20000.0       12.500000  \n",
       "1  20000.0       22.222222  \n",
       "2  18000.0       14.400000  \n",
       "3  75000.0       34.090909  \n",
       "4  75000.0       34.090909  "
      ]
     },
     "execution_count": 117,
     "metadata": {},
     "output_type": "execute_result"
    }
   ],
   "source": [
    "df1.head()"
   ]
  },
  {
   "cell_type": "code",
   "execution_count": null,
   "metadata": {
    "id": "sQJR4jU1FsD6",
    "outputId": "4687900a-45f8-42f5-efa9-4638f973ae87"
   },
   "outputs": [
    {
     "data": {
      "text/plain": [
       "730"
      ]
     },
     "execution_count": 118,
     "metadata": {},
     "output_type": "execute_result"
    }
   ],
   "source": [
    "len(df1['Location'].unique())"
   ]
  },
  {
   "cell_type": "code",
   "execution_count": null,
   "metadata": {
    "id": "UnI0J_TYFsD7"
   },
   "outputs": [],
   "source": [
    "#removing the comma in the Area column\n",
    "df1['Location']=df1['Location'].str.replace(',','') "
   ]
  },
  {
   "cell_type": "code",
   "execution_count": null,
   "metadata": {
    "id": "xFB_FWZbFsD7",
    "outputId": "96b5ae50-324c-43a2-81ba-ff88b4727e00"
   },
   "outputs": [
    {
     "data": {
      "text/html": [
       "<div>\n",
       "<style scoped>\n",
       "    .dataframe tbody tr th:only-of-type {\n",
       "        vertical-align: middle;\n",
       "    }\n",
       "\n",
       "    .dataframe tbody tr th {\n",
       "        vertical-align: top;\n",
       "    }\n",
       "\n",
       "    .dataframe thead th {\n",
       "        text-align: right;\n",
       "    }\n",
       "</style>\n",
       "<table border=\"1\" class=\"dataframe\">\n",
       "  <thead>\n",
       "    <tr style=\"text-align: right;\">\n",
       "      <th></th>\n",
       "      <th>Location</th>\n",
       "      <th>Area</th>\n",
       "      <th>Bed</th>\n",
       "      <th>Bath</th>\n",
       "      <th>Price</th>\n",
       "      <th>price_per_sqft</th>\n",
       "    </tr>\n",
       "  </thead>\n",
       "  <tbody>\n",
       "    <tr>\n",
       "      <th>0</th>\n",
       "      <td>Block H Bashundhara R-A Dhaka</td>\n",
       "      <td>1600</td>\n",
       "      <td>3</td>\n",
       "      <td>3</td>\n",
       "      <td>20000.0</td>\n",
       "      <td>12.500000</td>\n",
       "    </tr>\n",
       "    <tr>\n",
       "      <th>1</th>\n",
       "      <td>Farmgate Tejgaon Dhaka</td>\n",
       "      <td>900</td>\n",
       "      <td>2</td>\n",
       "      <td>2</td>\n",
       "      <td>20000.0</td>\n",
       "      <td>22.222222</td>\n",
       "    </tr>\n",
       "    <tr>\n",
       "      <th>2</th>\n",
       "      <td>Block B Nobodoy Housing Society Mohammadpur Dhaka</td>\n",
       "      <td>1250</td>\n",
       "      <td>3</td>\n",
       "      <td>3</td>\n",
       "      <td>18000.0</td>\n",
       "      <td>14.400000</td>\n",
       "    </tr>\n",
       "    <tr>\n",
       "      <th>3</th>\n",
       "      <td>Gulshan 1 Gulshan Dhaka</td>\n",
       "      <td>2200</td>\n",
       "      <td>3</td>\n",
       "      <td>4</td>\n",
       "      <td>75000.0</td>\n",
       "      <td>34.090909</td>\n",
       "    </tr>\n",
       "    <tr>\n",
       "      <th>4</th>\n",
       "      <td>Baridhara Dhaka</td>\n",
       "      <td>2200</td>\n",
       "      <td>3</td>\n",
       "      <td>3</td>\n",
       "      <td>75000.0</td>\n",
       "      <td>34.090909</td>\n",
       "    </tr>\n",
       "  </tbody>\n",
       "</table>\n",
       "</div>"
      ],
      "text/plain": [
       "                                            Location  Area  Bed  Bath  \\\n",
       "0                      Block H Bashundhara R-A Dhaka  1600    3     3   \n",
       "1                             Farmgate Tejgaon Dhaka   900    2     2   \n",
       "2  Block B Nobodoy Housing Society Mohammadpur Dhaka  1250    3     3   \n",
       "3                            Gulshan 1 Gulshan Dhaka  2200    3     4   \n",
       "4                                    Baridhara Dhaka  2200    3     3   \n",
       "\n",
       "     Price  price_per_sqft  \n",
       "0  20000.0       12.500000  \n",
       "1  20000.0       22.222222  \n",
       "2  18000.0       14.400000  \n",
       "3  75000.0       34.090909  \n",
       "4  75000.0       34.090909  "
      ]
     },
     "execution_count": 120,
     "metadata": {},
     "output_type": "execute_result"
    }
   ],
   "source": [
    "df1.head()"
   ]
  },
  {
   "cell_type": "code",
   "execution_count": null,
   "metadata": {
    "id": "iCEdb4XtFsD8",
    "outputId": "b67689ba-15c5-4654-d690-dd9ebe945951"
   },
   "outputs": [
    {
     "data": {
      "text/plain": [
       "Mohammadpur Dhaka                                               757\n",
       "Mirpur Dhaka                                                    556\n",
       "Block D Section 12 Mirpur Dhaka                                 417\n",
       "Dhanmondi Dhaka                                                 414\n",
       "Block E Section 12 Mirpur Dhaka                                 411\n",
       "Sector 10 Uttara Dhaka                                          357\n",
       "Paikpara Ahmed Nagar Mirpur Dhaka                               352\n",
       "Kallyanpur Mirpur Dhaka                                         337\n",
       "Section 12 Mirpur Dhaka                                         311\n",
       "Block B Section 12 Mirpur Dhaka                                 307\n",
       "Joar Sahara Dhaka                                               305\n",
       "Block C Section 12 Mirpur Dhaka                                 294\n",
       "West Shewrapara Mirpur Dhaka                                    292\n",
       "Shyamoli Dhaka                                                  285\n",
       "PC Culture Housing Mohammadpur Dhaka                            274\n",
       "Hazaribag Dhaka                                                 260\n",
       "South Baridhara Residential AreaD. I. T. Project Badda Dhaka    256\n",
       "Block G Bashundhara R-A Dhaka                                   255\n",
       "Sector 13 Uttara Dhaka                                          250\n",
       "Uttar Badda Badda Dhaka                                         248\n",
       "Baitul Aman Housing Society Adabor Dhaka                        241\n",
       "Section 1 Mirpur Dhaka                                          241\n",
       "Mohammadi Housing LTD. Mohammadpur Dhaka                        238\n",
       "Badda Dhaka                                                     236\n",
       "Middle Badda Badda Dhaka                                        234\n",
       "Shahjahanpur Dhaka                                              230\n",
       "Sector 14 Uttara Dhaka                                          215\n",
       "Rupnagar R/A Mirpur Dhaka                                       206\n",
       "Shantinagar Dhaka                                               191\n",
       "Ibrahimpur Dhaka                                                188\n",
       "Name: Location, dtype: int64"
      ]
     },
     "execution_count": 121,
     "metadata": {},
     "output_type": "execute_result"
    }
   ],
   "source": [
    "#Finding the locations with most number of houses\n",
    "location_count = df1['Location'].value_counts(ascending=False)\n",
    "location_count.head(30)"
   ]
  },
  {
   "cell_type": "code",
   "execution_count": null,
   "metadata": {
    "id": "bCNlckEfFsD8",
    "outputId": "c5869f90-ec49-423d-9c0f-7fc825b073c0"
   },
   "outputs": [
    {
     "data": {
      "text/plain": [
       "313"
      ]
     },
     "execution_count": 122,
     "metadata": {},
     "output_type": "execute_result"
    }
   ],
   "source": [
    "#Finding locations with less than 10 houses \n",
    "len(location_count[location_count <= 10])"
   ]
  },
  {
   "cell_type": "code",
   "execution_count": null,
   "metadata": {
    "id": "jWbsLevWFsD8",
    "outputId": "82cd6bf7-404b-4552-ce5b-14bf6e099098"
   },
   "outputs": [
    {
     "data": {
      "text/plain": [
       "730"
      ]
     },
     "execution_count": 123,
     "metadata": {},
     "output_type": "execute_result"
    }
   ],
   "source": [
    "len(df1['Location'].unique())"
   ]
  },
  {
   "cell_type": "code",
   "execution_count": null,
   "metadata": {
    "id": "euxSsAO0FsD8"
   },
   "outputs": [],
   "source": [
    "#Keeping the locations with less houses together\n",
    "location_count_under_10 = location_count[location_count <= 10]"
   ]
  },
  {
   "cell_type": "code",
   "execution_count": null,
   "metadata": {
    "id": "tOclFO0CFsD9"
   },
   "outputs": [],
   "source": [
    "#now leveling them as 'other' \n",
    "df1.Location = df1.Location.apply(lambda x: 'other' if x in location_count_under_10 else x)"
   ]
  },
  {
   "cell_type": "code",
   "execution_count": null,
   "metadata": {
    "id": "ElyPi_znFsD9",
    "outputId": "8c8f441f-7b80-4124-b7aa-ee7edeabb623"
   },
   "outputs": [
    {
     "data": {
      "text/plain": [
       "418"
      ]
     },
     "execution_count": 126,
     "metadata": {},
     "output_type": "execute_result"
    }
   ],
   "source": [
    "#now we have less unique values which will incress our accuracy \n",
    "len(df1['Location'].unique())"
   ]
  },
  {
   "cell_type": "code",
   "execution_count": null,
   "metadata": {
    "id": "JemIWoMMFsD-",
    "outputId": "4ce3496a-d884-40db-c8a4-bb93a7d8a3c2"
   },
   "outputs": [
    {
     "data": {
      "text/html": [
       "<div>\n",
       "<style scoped>\n",
       "    .dataframe tbody tr th:only-of-type {\n",
       "        vertical-align: middle;\n",
       "    }\n",
       "\n",
       "    .dataframe tbody tr th {\n",
       "        vertical-align: top;\n",
       "    }\n",
       "\n",
       "    .dataframe thead th {\n",
       "        text-align: right;\n",
       "    }\n",
       "</style>\n",
       "<table border=\"1\" class=\"dataframe\">\n",
       "  <thead>\n",
       "    <tr style=\"text-align: right;\">\n",
       "      <th></th>\n",
       "      <th>Location</th>\n",
       "      <th>Area</th>\n",
       "      <th>Bed</th>\n",
       "      <th>Bath</th>\n",
       "      <th>Price</th>\n",
       "      <th>price_per_sqft</th>\n",
       "    </tr>\n",
       "  </thead>\n",
       "  <tbody>\n",
       "    <tr>\n",
       "      <th>39</th>\n",
       "      <td>other</td>\n",
       "      <td>800</td>\n",
       "      <td>3</td>\n",
       "      <td>2</td>\n",
       "      <td>15000.0</td>\n",
       "      <td>18.750000</td>\n",
       "    </tr>\n",
       "    <tr>\n",
       "      <th>86</th>\n",
       "      <td>Block C Section 13 Mirpur Dhaka</td>\n",
       "      <td>745</td>\n",
       "      <td>3</td>\n",
       "      <td>2</td>\n",
       "      <td>15000.0</td>\n",
       "      <td>20.134228</td>\n",
       "    </tr>\n",
       "    <tr>\n",
       "      <th>135</th>\n",
       "      <td>other</td>\n",
       "      <td>800</td>\n",
       "      <td>3</td>\n",
       "      <td>2</td>\n",
       "      <td>15000.0</td>\n",
       "      <td>18.750000</td>\n",
       "    </tr>\n",
       "    <tr>\n",
       "      <th>186</th>\n",
       "      <td>Nayatola Maghbazar Dhaka</td>\n",
       "      <td>550</td>\n",
       "      <td>2</td>\n",
       "      <td>2</td>\n",
       "      <td>13000.0</td>\n",
       "      <td>23.636364</td>\n",
       "    </tr>\n",
       "    <tr>\n",
       "      <th>191</th>\n",
       "      <td>Baitul Aman Housing Society Adabor Dhaka</td>\n",
       "      <td>550</td>\n",
       "      <td>2</td>\n",
       "      <td>1</td>\n",
       "      <td>8500.0</td>\n",
       "      <td>15.454545</td>\n",
       "    </tr>\n",
       "    <tr>\n",
       "      <th>193</th>\n",
       "      <td>Taltola Khilgaon Dhaka</td>\n",
       "      <td>550</td>\n",
       "      <td>2</td>\n",
       "      <td>1</td>\n",
       "      <td>11000.0</td>\n",
       "      <td>20.000000</td>\n",
       "    </tr>\n",
       "    <tr>\n",
       "      <th>195</th>\n",
       "      <td>South Monipur Mirpur Dhaka</td>\n",
       "      <td>850</td>\n",
       "      <td>3</td>\n",
       "      <td>2</td>\n",
       "      <td>13000.0</td>\n",
       "      <td>15.294118</td>\n",
       "    </tr>\n",
       "    <tr>\n",
       "      <th>205</th>\n",
       "      <td>other</td>\n",
       "      <td>800</td>\n",
       "      <td>3</td>\n",
       "      <td>2</td>\n",
       "      <td>15000.0</td>\n",
       "      <td>18.750000</td>\n",
       "    </tr>\n",
       "    <tr>\n",
       "      <th>252</th>\n",
       "      <td>Block C Kaderabad Housing Society Bosila Moham...</td>\n",
       "      <td>750</td>\n",
       "      <td>3</td>\n",
       "      <td>2</td>\n",
       "      <td>16000.0</td>\n",
       "      <td>21.333333</td>\n",
       "    </tr>\n",
       "    <tr>\n",
       "      <th>260</th>\n",
       "      <td>Faydabad Dakshin Khan Dhaka</td>\n",
       "      <td>800</td>\n",
       "      <td>3</td>\n",
       "      <td>2</td>\n",
       "      <td>8500.0</td>\n",
       "      <td>10.625000</td>\n",
       "    </tr>\n",
       "  </tbody>\n",
       "</table>\n",
       "</div>"
      ],
      "text/plain": [
       "                                              Location  Area  Bed  Bath  \\\n",
       "39                                               other   800    3     2   \n",
       "86                     Block C Section 13 Mirpur Dhaka   745    3     2   \n",
       "135                                              other   800    3     2   \n",
       "186                           Nayatola Maghbazar Dhaka   550    2     2   \n",
       "191           Baitul Aman Housing Society Adabor Dhaka   550    2     1   \n",
       "193                             Taltola Khilgaon Dhaka   550    2     1   \n",
       "195                         South Monipur Mirpur Dhaka   850    3     2   \n",
       "205                                              other   800    3     2   \n",
       "252  Block C Kaderabad Housing Society Bosila Moham...   750    3     2   \n",
       "260                        Faydabad Dakshin Khan Dhaka   800    3     2   \n",
       "\n",
       "       Price  price_per_sqft  \n",
       "39   15000.0       18.750000  \n",
       "86   15000.0       20.134228  \n",
       "135  15000.0       18.750000  \n",
       "186  13000.0       23.636364  \n",
       "191   8500.0       15.454545  \n",
       "193  11000.0       20.000000  \n",
       "195  13000.0       15.294118  \n",
       "205  15000.0       18.750000  \n",
       "252  16000.0       21.333333  \n",
       "260   8500.0       10.625000  "
      ]
     },
     "execution_count": 127,
     "metadata": {},
     "output_type": "execute_result"
    }
   ],
   "source": [
    "#now founding the unrealistic Area to Bed ratio according to my Civil engineer friend\n",
    "df1[df1.Area/df1.Bed<300].head(10)"
   ]
  },
  {
   "cell_type": "code",
   "execution_count": null,
   "metadata": {
    "id": "2lhBG1TUFsD-",
    "outputId": "9061b4b3-f4a9-4589-b75b-939f4a3b056c"
   },
   "outputs": [
    {
     "data": {
      "text/plain": [
       "(28800, 6)"
      ]
     },
     "execution_count": 128,
     "metadata": {},
     "output_type": "execute_result"
    }
   ],
   "source": [
    "df1.shape"
   ]
  },
  {
   "cell_type": "code",
   "execution_count": null,
   "metadata": {
    "id": "c_Xe67mJFsD-",
    "outputId": "889638b0-dbce-489f-b140-17e72073af92"
   },
   "outputs": [
    {
     "data": {
      "text/plain": [
       "(27876, 6)"
      ]
     },
     "execution_count": 129,
     "metadata": {},
     "output_type": "execute_result"
    }
   ],
   "source": [
    "#removing them from our df \n",
    "df2 = df1[~(df1.Area/df1.Bed<300)]\n",
    "df2.shape"
   ]
  },
  {
   "cell_type": "code",
   "execution_count": null,
   "metadata": {
    "id": "7iFeHUWCFsD_",
    "outputId": "9b09a611-c23d-4c26-bf87-0d2c6df5273b"
   },
   "outputs": [
    {
     "data": {
      "text/plain": [
       "count    27876.000000\n",
       "mean        18.946916\n",
       "std          6.575892\n",
       "min          6.500000\n",
       "25%         15.384615\n",
       "50%         18.000000\n",
       "75%         20.952381\n",
       "max        228.571429\n",
       "Name: price_per_sqft, dtype: float64"
      ]
     },
     "execution_count": 130,
     "metadata": {},
     "output_type": "execute_result"
    }
   ],
   "source": [
    "#Lets see the description of the 'price_per_sqft' \n",
    "df2.price_per_sqft.describe()"
   ]
  },
  {
   "cell_type": "code",
   "execution_count": null,
   "metadata": {
    "id": "h53JYm-uFsD_",
    "outputId": "5f73d0fa-c6dd-454c-d435-53dd004c9baa"
   },
   "outputs": [
    {
     "data": {
      "text/plain": [
       "(19913, 6)"
      ]
     },
     "execution_count": 131,
     "metadata": {},
     "output_type": "execute_result"
    }
   ],
   "source": [
    "def drop_outliers(df):\n",
    "    df_out = pd.DataFrame()\n",
    "    for key, subdf in df.groupby('Location'):\n",
    "        m = np.mean(subdf.price_per_sqft)\n",
    "        st = np.std(subdf.price_per_sqft)\n",
    "        reduced_df = subdf[(subdf.price_per_sqft>(m-st)) & (subdf.price_per_sqft<=(m+st))]\n",
    "        df_out = pd.concat([df_out,reduced_df],ignore_index=True)\n",
    "    return df_out\n",
    "df3 = drop_outliers(df2)\n",
    "df3.shape"
   ]
  },
  {
   "cell_type": "code",
   "execution_count": null,
   "metadata": {
    "id": "TmYsFH4MFsD_",
    "outputId": "2e6df2f0-d318-4b2b-9d16-77d01cc643c6"
   },
   "outputs": [
    {
     "data": {
      "image/png": "[encoded data removed]",
      "text/plain": [
       "<Figure size 1080x720 with 1 Axes>"
      ]
     },
     "metadata": {
      "needs_background": "light"
     },
     "output_type": "display_data"
    }
   ],
   "source": [
    "#Building a scatter chart \n",
    "def plot_scatter_chart(df,Location):\n",
    "    bed2 = df[(df.Location==Location) & (df.Bed==2)]\n",
    "    bed3 = df[(df.Location==Location) & (df.Bed==3)]\n",
    "    matplotlib.rcParams['figure.figsize'] = (15,10)\n",
    "    plt.scatter(bed2.Area,bed2.Price,color='blue',label='2 Bed', s=50)\n",
    "    plt.scatter(bed3.Area,bed3.Price,marker='+', color='red',label='3 Bed', s=50)\n",
    "    plt.xlabel(\"Total Square Feet Area\")\n",
    "    plt.ylabel(\"Price (BDT)\")\n",
    "    plt.title(Location)\n",
    "    plt.legend()\n",
    "    \n",
    "plot_scatter_chart(df3,\"Shantinagar Dhaka\")"
   ]
  },
  {
   "cell_type": "code",
   "execution_count": null,
   "metadata": {
    "id": "RHUVUofmFsEA",
    "outputId": "22bfd398-6df1-46ae-d2b7-7484a4e6d405"
   },
   "outputs": [
    {
     "data": {
      "image/png": "[encoded data removed]",
      "text/plain": [
       "<Figure size 1080x720 with 1 Axes>"
      ]
     },
     "metadata": {
      "needs_background": "light"
     },
     "output_type": "display_data"
    }
   ],
   "source": [
    "plot_scatter_chart(df3,\"Mirpur Dhaka\")"
   ]
  },
  {
   "cell_type": "code",
   "execution_count": null,
   "metadata": {
    "id": "aw0YI1wTFsEA",
    "outputId": "24b7d551-8d78-48ed-8406-3df851233f07"
   },
   "outputs": [
    {
     "data": {
      "text/plain": [
       "Text(0, 0.5, 'Count')"
      ]
     },
     "execution_count": 134,
     "metadata": {},
     "output_type": "execute_result"
    },
    {
     "data": {
      "image/png": "[encoded data removed]",
      "text/plain": [
       "<Figure size 720x720 with 1 Axes>"
      ]
     },
     "metadata": {
      "needs_background": "light"
     },
     "output_type": "display_data"
    }
   ],
   "source": [
    "matplotlib.rcParams[\"figure.figsize\"] = (10,10)\n",
    "plt.hist(df3.price_per_sqft,rwidth=0.5)\n",
    "plt.xlabel(\"Price Per Square Feet\")\n",
    "plt.ylabel(\"Count\")"
   ]
  },
  {
   "cell_type": "code",
   "execution_count": null,
   "metadata": {
    "id": "dAB5fjykFsEB",
    "outputId": "f4b75325-42e1-43d0-e1cc-a36c35013cd4"
   },
   "outputs": [
    {
     "data": {
      "text/html": [
       "<div>\n",
       "<style scoped>\n",
       "    .dataframe tbody tr th:only-of-type {\n",
       "        vertical-align: middle;\n",
       "    }\n",
       "\n",
       "    .dataframe tbody tr th {\n",
       "        vertical-align: top;\n",
       "    }\n",
       "\n",
       "    .dataframe thead th {\n",
       "        text-align: right;\n",
       "    }\n",
       "</style>\n",
       "<table border=\"1\" class=\"dataframe\">\n",
       "  <thead>\n",
       "    <tr style=\"text-align: right;\">\n",
       "      <th></th>\n",
       "      <th>Location</th>\n",
       "      <th>Area</th>\n",
       "      <th>Bed</th>\n",
       "      <th>Bath</th>\n",
       "      <th>Price</th>\n",
       "      <th>price_per_sqft</th>\n",
       "    </tr>\n",
       "  </thead>\n",
       "  <tbody>\n",
       "    <tr>\n",
       "      <th>747</th>\n",
       "      <td>Avenue 6 Mirpur DOHS Mirpur Dhaka</td>\n",
       "      <td>2175</td>\n",
       "      <td>3</td>\n",
       "      <td>5</td>\n",
       "      <td>42000.0</td>\n",
       "      <td>19.310345</td>\n",
       "    </tr>\n",
       "    <tr>\n",
       "      <th>748</th>\n",
       "      <td>Avenue 6 Mirpur DOHS Mirpur Dhaka</td>\n",
       "      <td>2175</td>\n",
       "      <td>3</td>\n",
       "      <td>5</td>\n",
       "      <td>42000.0</td>\n",
       "      <td>19.310345</td>\n",
       "    </tr>\n",
       "    <tr>\n",
       "      <th>1227</th>\n",
       "      <td>Banani DOHS Dhaka</td>\n",
       "      <td>3000</td>\n",
       "      <td>3</td>\n",
       "      <td>5</td>\n",
       "      <td>130000.0</td>\n",
       "      <td>43.333333</td>\n",
       "    </tr>\n",
       "    <tr>\n",
       "      <th>1271</th>\n",
       "      <td>Banani Dhaka</td>\n",
       "      <td>2410</td>\n",
       "      <td>3</td>\n",
       "      <td>5</td>\n",
       "      <td>80000.0</td>\n",
       "      <td>33.195021</td>\n",
       "    </tr>\n",
       "    <tr>\n",
       "      <th>1688</th>\n",
       "      <td>Block A Bashundhara R-A Dhaka</td>\n",
       "      <td>2100</td>\n",
       "      <td>3</td>\n",
       "      <td>5</td>\n",
       "      <td>60000.0</td>\n",
       "      <td>28.571429</td>\n",
       "    </tr>\n",
       "    <tr>\n",
       "      <th>1689</th>\n",
       "      <td>Block A Bashundhara R-A Dhaka</td>\n",
       "      <td>2100</td>\n",
       "      <td>3</td>\n",
       "      <td>5</td>\n",
       "      <td>60000.0</td>\n",
       "      <td>28.571429</td>\n",
       "    </tr>\n",
       "    <tr>\n",
       "      <th>3967</th>\n",
       "      <td>Block D Bashundhara R-A Dhaka</td>\n",
       "      <td>3000</td>\n",
       "      <td>3</td>\n",
       "      <td>5</td>\n",
       "      <td>55000.0</td>\n",
       "      <td>18.333333</td>\n",
       "    </tr>\n",
       "    <tr>\n",
       "      <th>4038</th>\n",
       "      <td>Block D Bashundhara R-A Dhaka</td>\n",
       "      <td>1700</td>\n",
       "      <td>2</td>\n",
       "      <td>4</td>\n",
       "      <td>30000.0</td>\n",
       "      <td>17.647059</td>\n",
       "    </tr>\n",
       "    <tr>\n",
       "      <th>4112</th>\n",
       "      <td>Block D Bashundhara R-A Dhaka</td>\n",
       "      <td>2200</td>\n",
       "      <td>3</td>\n",
       "      <td>5</td>\n",
       "      <td>30000.0</td>\n",
       "      <td>13.636364</td>\n",
       "    </tr>\n",
       "    <tr>\n",
       "      <th>6097</th>\n",
       "      <td>Block J Baridhara Dhaka</td>\n",
       "      <td>2200</td>\n",
       "      <td>3</td>\n",
       "      <td>5</td>\n",
       "      <td>50000.0</td>\n",
       "      <td>22.727273</td>\n",
       "    </tr>\n",
       "    <tr>\n",
       "      <th>7067</th>\n",
       "      <td>Dhanmondi Dhaka</td>\n",
       "      <td>2200</td>\n",
       "      <td>3</td>\n",
       "      <td>5</td>\n",
       "      <td>62000.0</td>\n",
       "      <td>28.181818</td>\n",
       "    </tr>\n",
       "    <tr>\n",
       "      <th>7087</th>\n",
       "      <td>Dhanmondi Dhaka</td>\n",
       "      <td>2040</td>\n",
       "      <td>3</td>\n",
       "      <td>5</td>\n",
       "      <td>50000.0</td>\n",
       "      <td>24.509804</td>\n",
       "    </tr>\n",
       "    <tr>\n",
       "      <th>8111</th>\n",
       "      <td>Gulshan 2 Gulshan Dhaka</td>\n",
       "      <td>3000</td>\n",
       "      <td>2</td>\n",
       "      <td>4</td>\n",
       "      <td>160000.0</td>\n",
       "      <td>53.333333</td>\n",
       "    </tr>\n",
       "    <tr>\n",
       "      <th>14926</th>\n",
       "      <td>Sector 12 Uttara Dhaka</td>\n",
       "      <td>1650</td>\n",
       "      <td>3</td>\n",
       "      <td>5</td>\n",
       "      <td>29000.0</td>\n",
       "      <td>17.575758</td>\n",
       "    </tr>\n",
       "    <tr>\n",
       "      <th>15495</th>\n",
       "      <td>Sector 3 Uttara Dhaka</td>\n",
       "      <td>2300</td>\n",
       "      <td>2</td>\n",
       "      <td>4</td>\n",
       "      <td>50000.0</td>\n",
       "      <td>21.739130</td>\n",
       "    </tr>\n",
       "    <tr>\n",
       "      <th>15768</th>\n",
       "      <td>Sector 6 Uttara Dhaka</td>\n",
       "      <td>3000</td>\n",
       "      <td>3</td>\n",
       "      <td>5</td>\n",
       "      <td>70000.0</td>\n",
       "      <td>23.333333</td>\n",
       "    </tr>\n",
       "    <tr>\n",
       "      <th>16665</th>\n",
       "      <td>Shiddheswari Dhaka</td>\n",
       "      <td>2000</td>\n",
       "      <td>3</td>\n",
       "      <td>5</td>\n",
       "      <td>55000.0</td>\n",
       "      <td>27.500000</td>\n",
       "    </tr>\n",
       "    <tr>\n",
       "      <th>19770</th>\n",
       "      <td>other</td>\n",
       "      <td>2229</td>\n",
       "      <td>3</td>\n",
       "      <td>5</td>\n",
       "      <td>36000.0</td>\n",
       "      <td>16.150740</td>\n",
       "    </tr>\n",
       "  </tbody>\n",
       "</table>\n",
       "</div>"
      ],
      "text/plain": [
       "                                Location  Area  Bed  Bath     Price  \\\n",
       "747    Avenue 6 Mirpur DOHS Mirpur Dhaka  2175    3     5   42000.0   \n",
       "748    Avenue 6 Mirpur DOHS Mirpur Dhaka  2175    3     5   42000.0   \n",
       "1227                   Banani DOHS Dhaka  3000    3     5  130000.0   \n",
       "1271                        Banani Dhaka  2410    3     5   80000.0   \n",
       "1688       Block A Bashundhara R-A Dhaka  2100    3     5   60000.0   \n",
       "1689       Block A Bashundhara R-A Dhaka  2100    3     5   60000.0   \n",
       "3967       Block D Bashundhara R-A Dhaka  3000    3     5   55000.0   \n",
       "4038       Block D Bashundhara R-A Dhaka  1700    2     4   30000.0   \n",
       "4112       Block D Bashundhara R-A Dhaka  2200    3     5   30000.0   \n",
       "6097             Block J Baridhara Dhaka  2200    3     5   50000.0   \n",
       "7067                     Dhanmondi Dhaka  2200    3     5   62000.0   \n",
       "7087                     Dhanmondi Dhaka  2040    3     5   50000.0   \n",
       "8111             Gulshan 2 Gulshan Dhaka  3000    2     4  160000.0   \n",
       "14926             Sector 12 Uttara Dhaka  1650    3     5   29000.0   \n",
       "15495              Sector 3 Uttara Dhaka  2300    2     4   50000.0   \n",
       "15768              Sector 6 Uttara Dhaka  3000    3     5   70000.0   \n",
       "16665                 Shiddheswari Dhaka  2000    3     5   55000.0   \n",
       "19770                              other  2229    3     5   36000.0   \n",
       "\n",
       "       price_per_sqft  \n",
       "747         19.310345  \n",
       "748         19.310345  \n",
       "1227        43.333333  \n",
       "1271        33.195021  \n",
       "1688        28.571429  \n",
       "1689        28.571429  \n",
       "3967        18.333333  \n",
       "4038        17.647059  \n",
       "4112        13.636364  \n",
       "6097        22.727273  \n",
       "7067        28.181818  \n",
       "7087        24.509804  \n",
       "8111        53.333333  \n",
       "14926       17.575758  \n",
       "15495       21.739130  \n",
       "15768       23.333333  \n",
       "16665       27.500000  \n",
       "19770       16.150740  "
      ]
     },
     "execution_count": 135,
     "metadata": {},
     "output_type": "execute_result"
    }
   ],
   "source": [
    "df3[df3.Bath>df3.Bed+1] # this number of bed to bath ratio seems normal so not droping them "
   ]
  },
  {
   "cell_type": "markdown",
   "metadata": {
    "id": "Qz0PpcAZJknU"
   },
   "source": [
    "# Bulding categorical data"
   ]
  },
  {
   "cell_type": "code",
   "execution_count": null,
   "metadata": {
    "id": "NtQhOJuVFsEB",
    "outputId": "bd77a54c-53b7-4603-8c3b-c659863b7d0e"
   },
   "outputs": [
    {
     "data": {
      "text/html": [
       "<div>\n",
       "<style scoped>\n",
       "    .dataframe tbody tr th:only-of-type {\n",
       "        vertical-align: middle;\n",
       "    }\n",
       "\n",
       "    .dataframe tbody tr th {\n",
       "        vertical-align: top;\n",
       "    }\n",
       "\n",
       "    .dataframe thead th {\n",
       "        text-align: right;\n",
       "    }\n",
       "</style>\n",
       "<table border=\"1\" class=\"dataframe\">\n",
       "  <thead>\n",
       "    <tr style=\"text-align: right;\">\n",
       "      <th></th>\n",
       "      <th>1st Colony Mirpur Dhaka</th>\n",
       "      <th>2nd Colony Mirpur Dhaka</th>\n",
       "      <th>3rd Colony Mirpur Dhaka</th>\n",
       "      <th>Aainusbag Dakshin Khan Dhaka</th>\n",
       "      <th>Abdullahbag Uttar Badda Badda Dhaka</th>\n",
       "      <th>Abdur Rafique Housing Society Shekhertek Mohammadpur Dhaka</th>\n",
       "      <th>Adabor Dhaka</th>\n",
       "      <th>Adarsha Para Uttar Khan Dhaka</th>\n",
       "      <th>Agargaon Dhaka</th>\n",
       "      <th>Ahmed Nagar Mirpur Dhaka</th>\n",
       "      <th>...</th>\n",
       "      <th>West Kazipara Mirpur Dhaka</th>\n",
       "      <th>West Mollartek Dakshin Khan Dhaka</th>\n",
       "      <th>West Monipur Mirpur Dhaka</th>\n",
       "      <th>West Nakhalpara Tejgaon Dhaka</th>\n",
       "      <th>West Rampura Rampura Dhaka</th>\n",
       "      <th>West Shewrapara Mirpur Dhaka</th>\n",
       "      <th>West Vatara Vatara Badda Dhaka</th>\n",
       "      <th>Zafrabad Hazaribag Dhaka</th>\n",
       "      <th>aziz Moholla Mohammadpur Dhaka</th>\n",
       "      <th>other</th>\n",
       "    </tr>\n",
       "  </thead>\n",
       "  <tbody>\n",
       "    <tr>\n",
       "      <th>0</th>\n",
       "      <td>1</td>\n",
       "      <td>0</td>\n",
       "      <td>0</td>\n",
       "      <td>0</td>\n",
       "      <td>0</td>\n",
       "      <td>0</td>\n",
       "      <td>0</td>\n",
       "      <td>0</td>\n",
       "      <td>0</td>\n",
       "      <td>0</td>\n",
       "      <td>...</td>\n",
       "      <td>0</td>\n",
       "      <td>0</td>\n",
       "      <td>0</td>\n",
       "      <td>0</td>\n",
       "      <td>0</td>\n",
       "      <td>0</td>\n",
       "      <td>0</td>\n",
       "      <td>0</td>\n",
       "      <td>0</td>\n",
       "      <td>0</td>\n",
       "    </tr>\n",
       "    <tr>\n",
       "      <th>1</th>\n",
       "      <td>1</td>\n",
       "      <td>0</td>\n",
       "      <td>0</td>\n",
       "      <td>0</td>\n",
       "      <td>0</td>\n",
       "      <td>0</td>\n",
       "      <td>0</td>\n",
       "      <td>0</td>\n",
       "      <td>0</td>\n",
       "      <td>0</td>\n",
       "      <td>...</td>\n",
       "      <td>0</td>\n",
       "      <td>0</td>\n",
       "      <td>0</td>\n",
       "      <td>0</td>\n",
       "      <td>0</td>\n",
       "      <td>0</td>\n",
       "      <td>0</td>\n",
       "      <td>0</td>\n",
       "      <td>0</td>\n",
       "      <td>0</td>\n",
       "    </tr>\n",
       "    <tr>\n",
       "      <th>2</th>\n",
       "      <td>1</td>\n",
       "      <td>0</td>\n",
       "      <td>0</td>\n",
       "      <td>0</td>\n",
       "      <td>0</td>\n",
       "      <td>0</td>\n",
       "      <td>0</td>\n",
       "      <td>0</td>\n",
       "      <td>0</td>\n",
       "      <td>0</td>\n",
       "      <td>...</td>\n",
       "      <td>0</td>\n",
       "      <td>0</td>\n",
       "      <td>0</td>\n",
       "      <td>0</td>\n",
       "      <td>0</td>\n",
       "      <td>0</td>\n",
       "      <td>0</td>\n",
       "      <td>0</td>\n",
       "      <td>0</td>\n",
       "      <td>0</td>\n",
       "    </tr>\n",
       "    <tr>\n",
       "      <th>3</th>\n",
       "      <td>1</td>\n",
       "      <td>0</td>\n",
       "      <td>0</td>\n",
       "      <td>0</td>\n",
       "      <td>0</td>\n",
       "      <td>0</td>\n",
       "      <td>0</td>\n",
       "      <td>0</td>\n",
       "      <td>0</td>\n",
       "      <td>0</td>\n",
       "      <td>...</td>\n",
       "      <td>0</td>\n",
       "      <td>0</td>\n",
       "      <td>0</td>\n",
       "      <td>0</td>\n",
       "      <td>0</td>\n",
       "      <td>0</td>\n",
       "      <td>0</td>\n",
       "      <td>0</td>\n",
       "      <td>0</td>\n",
       "      <td>0</td>\n",
       "    </tr>\n",
       "    <tr>\n",
       "      <th>4</th>\n",
       "      <td>1</td>\n",
       "      <td>0</td>\n",
       "      <td>0</td>\n",
       "      <td>0</td>\n",
       "      <td>0</td>\n",
       "      <td>0</td>\n",
       "      <td>0</td>\n",
       "      <td>0</td>\n",
       "      <td>0</td>\n",
       "      <td>0</td>\n",
       "      <td>...</td>\n",
       "      <td>0</td>\n",
       "      <td>0</td>\n",
       "      <td>0</td>\n",
       "      <td>0</td>\n",
       "      <td>0</td>\n",
       "      <td>0</td>\n",
       "      <td>0</td>\n",
       "      <td>0</td>\n",
       "      <td>0</td>\n",
       "      <td>0</td>\n",
       "    </tr>\n",
       "  </tbody>\n",
       "</table>\n",
       "<p>5 rows × 416 columns</p>\n",
       "</div>"
      ],
      "text/plain": [
       "   1st Colony Mirpur Dhaka  2nd Colony Mirpur Dhaka  3rd Colony Mirpur Dhaka  \\\n",
       "0                        1                        0                        0   \n",
       "1                        1                        0                        0   \n",
       "2                        1                        0                        0   \n",
       "3                        1                        0                        0   \n",
       "4                        1                        0                        0   \n",
       "\n",
       "   Aainusbag Dakshin Khan Dhaka  Abdullahbag Uttar Badda Badda Dhaka  \\\n",
       "0                             0                                    0   \n",
       "1                             0                                    0   \n",
       "2                             0                                    0   \n",
       "3                             0                                    0   \n",
       "4                             0                                    0   \n",
       "\n",
       "   Abdur Rafique Housing Society Shekhertek Mohammadpur Dhaka  Adabor Dhaka  \\\n",
       "0                                                  0                      0   \n",
       "1                                                  0                      0   \n",
       "2                                                  0                      0   \n",
       "3                                                  0                      0   \n",
       "4                                                  0                      0   \n",
       "\n",
       "   Adarsha Para Uttar Khan Dhaka  Agargaon Dhaka  Ahmed Nagar Mirpur Dhaka  \\\n",
       "0                              0               0                         0   \n",
       "1                              0               0                         0   \n",
       "2                              0               0                         0   \n",
       "3                              0               0                         0   \n",
       "4                              0               0                         0   \n",
       "\n",
       "   ...  West Kazipara Mirpur Dhaka  West Mollartek Dakshin Khan Dhaka  \\\n",
       "0  ...                           0                                  0   \n",
       "1  ...                           0                                  0   \n",
       "2  ...                           0                                  0   \n",
       "3  ...                           0                                  0   \n",
       "4  ...                           0                                  0   \n",
       "\n",
       "   West Monipur Mirpur Dhaka  West Nakhalpara Tejgaon Dhaka  \\\n",
       "0                          0                              0   \n",
       "1                          0                              0   \n",
       "2                          0                              0   \n",
       "3                          0                              0   \n",
       "4                          0                              0   \n",
       "\n",
       "   West Rampura Rampura Dhaka  West Shewrapara Mirpur Dhaka  \\\n",
       "0                           0                             0   \n",
       "1                           0                             0   \n",
       "2                           0                             0   \n",
       "3                           0                             0   \n",
       "4                           0                             0   \n",
       "\n",
       "   West Vatara Vatara Badda Dhaka  Zafrabad Hazaribag Dhaka  \\\n",
       "0                               0                         0   \n",
       "1                               0                         0   \n",
       "2                               0                         0   \n",
       "3                               0                         0   \n",
       "4                               0                         0   \n",
       "\n",
       "   aziz Moholla Mohammadpur Dhaka  other  \n",
       "0                               0      0  \n",
       "1                               0      0  \n",
       "2                               0      0  \n",
       "3                               0      0  \n",
       "4                               0      0  \n",
       "\n",
       "[5 rows x 416 columns]"
      ]
     },
     "execution_count": 136,
     "metadata": {},
     "output_type": "execute_result"
    }
   ],
   "source": [
    "dummies = pd.get_dummies(df3.Location)\n",
    "dummies.head()"
   ]
  },
  {
   "cell_type": "code",
   "execution_count": null,
   "metadata": {
    "id": "Ki0SJQx7FsEB",
    "outputId": "179d4371-44aa-4071-c4f3-329d7a7e3e40"
   },
   "outputs": [
    {
     "data": {
      "text/html": [
       "<div>\n",
       "<style scoped>\n",
       "    .dataframe tbody tr th:only-of-type {\n",
       "        vertical-align: middle;\n",
       "    }\n",
       "\n",
       "    .dataframe tbody tr th {\n",
       "        vertical-align: top;\n",
       "    }\n",
       "\n",
       "    .dataframe thead th {\n",
       "        text-align: right;\n",
       "    }\n",
       "</style>\n",
       "<table border=\"1\" class=\"dataframe\">\n",
       "  <thead>\n",
       "    <tr style=\"text-align: right;\">\n",
       "      <th></th>\n",
       "      <th>Location</th>\n",
       "      <th>Area</th>\n",
       "      <th>Bed</th>\n",
       "      <th>Bath</th>\n",
       "      <th>Price</th>\n",
       "      <th>price_per_sqft</th>\n",
       "      <th>1st Colony Mirpur Dhaka</th>\n",
       "      <th>2nd Colony Mirpur Dhaka</th>\n",
       "      <th>3rd Colony Mirpur Dhaka</th>\n",
       "      <th>Aainusbag Dakshin Khan Dhaka</th>\n",
       "      <th>...</th>\n",
       "      <th>West Kalachandpur Kalachandpur Dhaka</th>\n",
       "      <th>West Kazipara Mirpur Dhaka</th>\n",
       "      <th>West Mollartek Dakshin Khan Dhaka</th>\n",
       "      <th>West Monipur Mirpur Dhaka</th>\n",
       "      <th>West Nakhalpara Tejgaon Dhaka</th>\n",
       "      <th>West Rampura Rampura Dhaka</th>\n",
       "      <th>West Shewrapara Mirpur Dhaka</th>\n",
       "      <th>West Vatara Vatara Badda Dhaka</th>\n",
       "      <th>Zafrabad Hazaribag Dhaka</th>\n",
       "      <th>aziz Moholla Mohammadpur Dhaka</th>\n",
       "    </tr>\n",
       "  </thead>\n",
       "  <tbody>\n",
       "    <tr>\n",
       "      <th>0</th>\n",
       "      <td>1st Colony Mirpur Dhaka</td>\n",
       "      <td>800</td>\n",
       "      <td>2</td>\n",
       "      <td>2</td>\n",
       "      <td>13500.0</td>\n",
       "      <td>16.875000</td>\n",
       "      <td>1</td>\n",
       "      <td>0</td>\n",
       "      <td>0</td>\n",
       "      <td>0</td>\n",
       "      <td>...</td>\n",
       "      <td>0</td>\n",
       "      <td>0</td>\n",
       "      <td>0</td>\n",
       "      <td>0</td>\n",
       "      <td>0</td>\n",
       "      <td>0</td>\n",
       "      <td>0</td>\n",
       "      <td>0</td>\n",
       "      <td>0</td>\n",
       "      <td>0</td>\n",
       "    </tr>\n",
       "    <tr>\n",
       "      <th>1</th>\n",
       "      <td>1st Colony Mirpur Dhaka</td>\n",
       "      <td>700</td>\n",
       "      <td>2</td>\n",
       "      <td>2</td>\n",
       "      <td>12000.0</td>\n",
       "      <td>17.142857</td>\n",
       "      <td>1</td>\n",
       "      <td>0</td>\n",
       "      <td>0</td>\n",
       "      <td>0</td>\n",
       "      <td>...</td>\n",
       "      <td>0</td>\n",
       "      <td>0</td>\n",
       "      <td>0</td>\n",
       "      <td>0</td>\n",
       "      <td>0</td>\n",
       "      <td>0</td>\n",
       "      <td>0</td>\n",
       "      <td>0</td>\n",
       "      <td>0</td>\n",
       "      <td>0</td>\n",
       "    </tr>\n",
       "    <tr>\n",
       "      <th>2</th>\n",
       "      <td>1st Colony Mirpur Dhaka</td>\n",
       "      <td>1100</td>\n",
       "      <td>3</td>\n",
       "      <td>3</td>\n",
       "      <td>20000.0</td>\n",
       "      <td>18.181818</td>\n",
       "      <td>1</td>\n",
       "      <td>0</td>\n",
       "      <td>0</td>\n",
       "      <td>0</td>\n",
       "      <td>...</td>\n",
       "      <td>0</td>\n",
       "      <td>0</td>\n",
       "      <td>0</td>\n",
       "      <td>0</td>\n",
       "      <td>0</td>\n",
       "      <td>0</td>\n",
       "      <td>0</td>\n",
       "      <td>0</td>\n",
       "      <td>0</td>\n",
       "      <td>0</td>\n",
       "    </tr>\n",
       "    <tr>\n",
       "      <th>3</th>\n",
       "      <td>1st Colony Mirpur Dhaka</td>\n",
       "      <td>1100</td>\n",
       "      <td>3</td>\n",
       "      <td>3</td>\n",
       "      <td>20000.0</td>\n",
       "      <td>18.181818</td>\n",
       "      <td>1</td>\n",
       "      <td>0</td>\n",
       "      <td>0</td>\n",
       "      <td>0</td>\n",
       "      <td>...</td>\n",
       "      <td>0</td>\n",
       "      <td>0</td>\n",
       "      <td>0</td>\n",
       "      <td>0</td>\n",
       "      <td>0</td>\n",
       "      <td>0</td>\n",
       "      <td>0</td>\n",
       "      <td>0</td>\n",
       "      <td>0</td>\n",
       "      <td>0</td>\n",
       "    </tr>\n",
       "    <tr>\n",
       "      <th>4</th>\n",
       "      <td>1st Colony Mirpur Dhaka</td>\n",
       "      <td>1020</td>\n",
       "      <td>3</td>\n",
       "      <td>2</td>\n",
       "      <td>15000.0</td>\n",
       "      <td>14.705882</td>\n",
       "      <td>1</td>\n",
       "      <td>0</td>\n",
       "      <td>0</td>\n",
       "      <td>0</td>\n",
       "      <td>...</td>\n",
       "      <td>0</td>\n",
       "      <td>0</td>\n",
       "      <td>0</td>\n",
       "      <td>0</td>\n",
       "      <td>0</td>\n",
       "      <td>0</td>\n",
       "      <td>0</td>\n",
       "      <td>0</td>\n",
       "      <td>0</td>\n",
       "      <td>0</td>\n",
       "    </tr>\n",
       "  </tbody>\n",
       "</table>\n",
       "<p>5 rows × 421 columns</p>\n",
       "</div>"
      ],
      "text/plain": [
       "                  Location  Area  Bed  Bath    Price  price_per_sqft  \\\n",
       "0  1st Colony Mirpur Dhaka   800    2     2  13500.0       16.875000   \n",
       "1  1st Colony Mirpur Dhaka   700    2     2  12000.0       17.142857   \n",
       "2  1st Colony Mirpur Dhaka  1100    3     3  20000.0       18.181818   \n",
       "3  1st Colony Mirpur Dhaka  1100    3     3  20000.0       18.181818   \n",
       "4  1st Colony Mirpur Dhaka  1020    3     2  15000.0       14.705882   \n",
       "\n",
       "   1st Colony Mirpur Dhaka  2nd Colony Mirpur Dhaka  3rd Colony Mirpur Dhaka  \\\n",
       "0                        1                        0                        0   \n",
       "1                        1                        0                        0   \n",
       "2                        1                        0                        0   \n",
       "3                        1                        0                        0   \n",
       "4                        1                        0                        0   \n",
       "\n",
       "   Aainusbag Dakshin Khan Dhaka  ...  West Kalachandpur Kalachandpur Dhaka  \\\n",
       "0                             0  ...                                     0   \n",
       "1                             0  ...                                     0   \n",
       "2                             0  ...                                     0   \n",
       "3                             0  ...                                     0   \n",
       "4                             0  ...                                     0   \n",
       "\n",
       "   West Kazipara Mirpur Dhaka  West Mollartek Dakshin Khan Dhaka  \\\n",
       "0                           0                                  0   \n",
       "1                           0                                  0   \n",
       "2                           0                                  0   \n",
       "3                           0                                  0   \n",
       "4                           0                                  0   \n",
       "\n",
       "   West Monipur Mirpur Dhaka  West Nakhalpara Tejgaon Dhaka  \\\n",
       "0                          0                              0   \n",
       "1                          0                              0   \n",
       "2                          0                              0   \n",
       "3                          0                              0   \n",
       "4                          0                              0   \n",
       "\n",
       "   West Rampura Rampura Dhaka  West Shewrapara Mirpur Dhaka  \\\n",
       "0                           0                             0   \n",
       "1                           0                             0   \n",
       "2                           0                             0   \n",
       "3                           0                             0   \n",
       "4                           0                             0   \n",
       "\n",
       "   West Vatara Vatara Badda Dhaka  Zafrabad Hazaribag Dhaka  \\\n",
       "0                               0                         0   \n",
       "1                               0                         0   \n",
       "2                               0                         0   \n",
       "3                               0                         0   \n",
       "4                               0                         0   \n",
       "\n",
       "   aziz Moholla Mohammadpur Dhaka  \n",
       "0                               0  \n",
       "1                               0  \n",
       "2                               0  \n",
       "3                               0  \n",
       "4                               0  \n",
       "\n",
       "[5 rows x 421 columns]"
      ]
     },
     "execution_count": 137,
     "metadata": {},
     "output_type": "execute_result"
    }
   ],
   "source": [
    "df4 = pd.concat([df3,dummies.drop('other',axis='columns')],axis='columns')\n",
    "df4.head()"
   ]
  },
  {
   "cell_type": "code",
   "execution_count": null,
   "metadata": {
    "id": "c-uIus7EFsEC",
    "outputId": "6486f775-4620-4e80-809a-92f10de6af52"
   },
   "outputs": [
    {
     "data": {
      "text/html": [
       "<div>\n",
       "<style scoped>\n",
       "    .dataframe tbody tr th:only-of-type {\n",
       "        vertical-align: middle;\n",
       "    }\n",
       "\n",
       "    .dataframe tbody tr th {\n",
       "        vertical-align: top;\n",
       "    }\n",
       "\n",
       "    .dataframe thead th {\n",
       "        text-align: right;\n",
       "    }\n",
       "</style>\n",
       "<table border=\"1\" class=\"dataframe\">\n",
       "  <thead>\n",
       "    <tr style=\"text-align: right;\">\n",
       "      <th></th>\n",
       "      <th>Area</th>\n",
       "      <th>Bed</th>\n",
       "      <th>Bath</th>\n",
       "      <th>Price</th>\n",
       "      <th>price_per_sqft</th>\n",
       "      <th>1st Colony Mirpur Dhaka</th>\n",
       "      <th>2nd Colony Mirpur Dhaka</th>\n",
       "      <th>3rd Colony Mirpur Dhaka</th>\n",
       "      <th>Aainusbag Dakshin Khan Dhaka</th>\n",
       "      <th>Abdullahbag Uttar Badda Badda Dhaka</th>\n",
       "      <th>...</th>\n",
       "      <th>West Kalachandpur Kalachandpur Dhaka</th>\n",
       "      <th>West Kazipara Mirpur Dhaka</th>\n",
       "      <th>West Mollartek Dakshin Khan Dhaka</th>\n",
       "      <th>West Monipur Mirpur Dhaka</th>\n",
       "      <th>West Nakhalpara Tejgaon Dhaka</th>\n",
       "      <th>West Rampura Rampura Dhaka</th>\n",
       "      <th>West Shewrapara Mirpur Dhaka</th>\n",
       "      <th>West Vatara Vatara Badda Dhaka</th>\n",
       "      <th>Zafrabad Hazaribag Dhaka</th>\n",
       "      <th>aziz Moholla Mohammadpur Dhaka</th>\n",
       "    </tr>\n",
       "  </thead>\n",
       "  <tbody>\n",
       "    <tr>\n",
       "      <th>0</th>\n",
       "      <td>800</td>\n",
       "      <td>2</td>\n",
       "      <td>2</td>\n",
       "      <td>13500.0</td>\n",
       "      <td>16.875000</td>\n",
       "      <td>1</td>\n",
       "      <td>0</td>\n",
       "      <td>0</td>\n",
       "      <td>0</td>\n",
       "      <td>0</td>\n",
       "      <td>...</td>\n",
       "      <td>0</td>\n",
       "      <td>0</td>\n",
       "      <td>0</td>\n",
       "      <td>0</td>\n",
       "      <td>0</td>\n",
       "      <td>0</td>\n",
       "      <td>0</td>\n",
       "      <td>0</td>\n",
       "      <td>0</td>\n",
       "      <td>0</td>\n",
       "    </tr>\n",
       "    <tr>\n",
       "      <th>1</th>\n",
       "      <td>700</td>\n",
       "      <td>2</td>\n",
       "      <td>2</td>\n",
       "      <td>12000.0</td>\n",
       "      <td>17.142857</td>\n",
       "      <td>1</td>\n",
       "      <td>0</td>\n",
       "      <td>0</td>\n",
       "      <td>0</td>\n",
       "      <td>0</td>\n",
       "      <td>...</td>\n",
       "      <td>0</td>\n",
       "      <td>0</td>\n",
       "      <td>0</td>\n",
       "      <td>0</td>\n",
       "      <td>0</td>\n",
       "      <td>0</td>\n",
       "      <td>0</td>\n",
       "      <td>0</td>\n",
       "      <td>0</td>\n",
       "      <td>0</td>\n",
       "    </tr>\n",
       "    <tr>\n",
       "      <th>2</th>\n",
       "      <td>1100</td>\n",
       "      <td>3</td>\n",
       "      <td>3</td>\n",
       "      <td>20000.0</td>\n",
       "      <td>18.181818</td>\n",
       "      <td>1</td>\n",
       "      <td>0</td>\n",
       "      <td>0</td>\n",
       "      <td>0</td>\n",
       "      <td>0</td>\n",
       "      <td>...</td>\n",
       "      <td>0</td>\n",
       "      <td>0</td>\n",
       "      <td>0</td>\n",
       "      <td>0</td>\n",
       "      <td>0</td>\n",
       "      <td>0</td>\n",
       "      <td>0</td>\n",
       "      <td>0</td>\n",
       "      <td>0</td>\n",
       "      <td>0</td>\n",
       "    </tr>\n",
       "    <tr>\n",
       "      <th>3</th>\n",
       "      <td>1100</td>\n",
       "      <td>3</td>\n",
       "      <td>3</td>\n",
       "      <td>20000.0</td>\n",
       "      <td>18.181818</td>\n",
       "      <td>1</td>\n",
       "      <td>0</td>\n",
       "      <td>0</td>\n",
       "      <td>0</td>\n",
       "      <td>0</td>\n",
       "      <td>...</td>\n",
       "      <td>0</td>\n",
       "      <td>0</td>\n",
       "      <td>0</td>\n",
       "      <td>0</td>\n",
       "      <td>0</td>\n",
       "      <td>0</td>\n",
       "      <td>0</td>\n",
       "      <td>0</td>\n",
       "      <td>0</td>\n",
       "      <td>0</td>\n",
       "    </tr>\n",
       "    <tr>\n",
       "      <th>4</th>\n",
       "      <td>1020</td>\n",
       "      <td>3</td>\n",
       "      <td>2</td>\n",
       "      <td>15000.0</td>\n",
       "      <td>14.705882</td>\n",
       "      <td>1</td>\n",
       "      <td>0</td>\n",
       "      <td>0</td>\n",
       "      <td>0</td>\n",
       "      <td>0</td>\n",
       "      <td>...</td>\n",
       "      <td>0</td>\n",
       "      <td>0</td>\n",
       "      <td>0</td>\n",
       "      <td>0</td>\n",
       "      <td>0</td>\n",
       "      <td>0</td>\n",
       "      <td>0</td>\n",
       "      <td>0</td>\n",
       "      <td>0</td>\n",
       "      <td>0</td>\n",
       "    </tr>\n",
       "  </tbody>\n",
       "</table>\n",
       "<p>5 rows × 420 columns</p>\n",
       "</div>"
      ],
      "text/plain": [
       "   Area  Bed  Bath    Price  price_per_sqft  1st Colony Mirpur Dhaka  \\\n",
       "0   800    2     2  13500.0       16.875000                        1   \n",
       "1   700    2     2  12000.0       17.142857                        1   \n",
       "2  1100    3     3  20000.0       18.181818                        1   \n",
       "3  1100    3     3  20000.0       18.181818                        1   \n",
       "4  1020    3     2  15000.0       14.705882                        1   \n",
       "\n",
       "   2nd Colony Mirpur Dhaka  3rd Colony Mirpur Dhaka  \\\n",
       "0                        0                        0   \n",
       "1                        0                        0   \n",
       "2                        0                        0   \n",
       "3                        0                        0   \n",
       "4                        0                        0   \n",
       "\n",
       "   Aainusbag Dakshin Khan Dhaka  Abdullahbag Uttar Badda Badda Dhaka  ...  \\\n",
       "0                             0                                    0  ...   \n",
       "1                             0                                    0  ...   \n",
       "2                             0                                    0  ...   \n",
       "3                             0                                    0  ...   \n",
       "4                             0                                    0  ...   \n",
       "\n",
       "   West Kalachandpur Kalachandpur Dhaka  West Kazipara Mirpur Dhaka  \\\n",
       "0                                     0                           0   \n",
       "1                                     0                           0   \n",
       "2                                     0                           0   \n",
       "3                                     0                           0   \n",
       "4                                     0                           0   \n",
       "\n",
       "   West Mollartek Dakshin Khan Dhaka  West Monipur Mirpur Dhaka  \\\n",
       "0                                  0                          0   \n",
       "1                                  0                          0   \n",
       "2                                  0                          0   \n",
       "3                                  0                          0   \n",
       "4                                  0                          0   \n",
       "\n",
       "   West Nakhalpara Tejgaon Dhaka  West Rampura Rampura Dhaka  \\\n",
       "0                              0                           0   \n",
       "1                              0                           0   \n",
       "2                              0                           0   \n",
       "3                              0                           0   \n",
       "4                              0                           0   \n",
       "\n",
       "   West Shewrapara Mirpur Dhaka  West Vatara Vatara Badda Dhaka  \\\n",
       "0                             0                               0   \n",
       "1                             0                               0   \n",
       "2                             0                               0   \n",
       "3                             0                               0   \n",
       "4                             0                               0   \n",
       "\n",
       "   Zafrabad Hazaribag Dhaka  aziz Moholla Mohammadpur Dhaka  \n",
       "0                         0                               0  \n",
       "1                         0                               0  \n",
       "2                         0                               0  \n",
       "3                         0                               0  \n",
       "4                         0                               0  \n",
       "\n",
       "[5 rows x 420 columns]"
      ]
     },
     "execution_count": 138,
     "metadata": {},
     "output_type": "execute_result"
    }
   ],
   "source": [
    "df5 = df4.drop('Location',axis='columns') \n",
    "df5.head()"
   ]
  },
  {
   "cell_type": "markdown",
   "metadata": {
    "id": "e-Qe1L0IFsEC"
   },
   "source": [
    "## Model Building "
   ]
  },
  {
   "cell_type": "code",
   "execution_count": null,
   "metadata": {
    "id": "dhOn7jUKFsED",
    "outputId": "55368853-1c3e-4f07-cdeb-de8dbaf5b836"
   },
   "outputs": [
    {
     "data": {
      "text/html": [
       "<div>\n",
       "<style scoped>\n",
       "    .dataframe tbody tr th:only-of-type {\n",
       "        vertical-align: middle;\n",
       "    }\n",
       "\n",
       "    .dataframe tbody tr th {\n",
       "        vertical-align: top;\n",
       "    }\n",
       "\n",
       "    .dataframe thead th {\n",
       "        text-align: right;\n",
       "    }\n",
       "</style>\n",
       "<table border=\"1\" class=\"dataframe\">\n",
       "  <thead>\n",
       "    <tr style=\"text-align: right;\">\n",
       "      <th></th>\n",
       "      <th>Area</th>\n",
       "      <th>Bed</th>\n",
       "      <th>Bath</th>\n",
       "      <th>1st Colony Mirpur Dhaka</th>\n",
       "      <th>2nd Colony Mirpur Dhaka</th>\n",
       "      <th>3rd Colony Mirpur Dhaka</th>\n",
       "      <th>Aainusbag Dakshin Khan Dhaka</th>\n",
       "      <th>Abdullahbag Uttar Badda Badda Dhaka</th>\n",
       "      <th>Abdur Rafique Housing Society Shekhertek Mohammadpur Dhaka</th>\n",
       "      <th>Adabor Dhaka</th>\n",
       "      <th>...</th>\n",
       "      <th>West Kalachandpur Kalachandpur Dhaka</th>\n",
       "      <th>West Kazipara Mirpur Dhaka</th>\n",
       "      <th>West Mollartek Dakshin Khan Dhaka</th>\n",
       "      <th>West Monipur Mirpur Dhaka</th>\n",
       "      <th>West Nakhalpara Tejgaon Dhaka</th>\n",
       "      <th>West Rampura Rampura Dhaka</th>\n",
       "      <th>West Shewrapara Mirpur Dhaka</th>\n",
       "      <th>West Vatara Vatara Badda Dhaka</th>\n",
       "      <th>Zafrabad Hazaribag Dhaka</th>\n",
       "      <th>aziz Moholla Mohammadpur Dhaka</th>\n",
       "    </tr>\n",
       "  </thead>\n",
       "  <tbody>\n",
       "    <tr>\n",
       "      <th>0</th>\n",
       "      <td>800</td>\n",
       "      <td>2</td>\n",
       "      <td>2</td>\n",
       "      <td>1</td>\n",
       "      <td>0</td>\n",
       "      <td>0</td>\n",
       "      <td>0</td>\n",
       "      <td>0</td>\n",
       "      <td>0</td>\n",
       "      <td>0</td>\n",
       "      <td>...</td>\n",
       "      <td>0</td>\n",
       "      <td>0</td>\n",
       "      <td>0</td>\n",
       "      <td>0</td>\n",
       "      <td>0</td>\n",
       "      <td>0</td>\n",
       "      <td>0</td>\n",
       "      <td>0</td>\n",
       "      <td>0</td>\n",
       "      <td>0</td>\n",
       "    </tr>\n",
       "    <tr>\n",
       "      <th>1</th>\n",
       "      <td>700</td>\n",
       "      <td>2</td>\n",
       "      <td>2</td>\n",
       "      <td>1</td>\n",
       "      <td>0</td>\n",
       "      <td>0</td>\n",
       "      <td>0</td>\n",
       "      <td>0</td>\n",
       "      <td>0</td>\n",
       "      <td>0</td>\n",
       "      <td>...</td>\n",
       "      <td>0</td>\n",
       "      <td>0</td>\n",
       "      <td>0</td>\n",
       "      <td>0</td>\n",
       "      <td>0</td>\n",
       "      <td>0</td>\n",
       "      <td>0</td>\n",
       "      <td>0</td>\n",
       "      <td>0</td>\n",
       "      <td>0</td>\n",
       "    </tr>\n",
       "    <tr>\n",
       "      <th>2</th>\n",
       "      <td>1100</td>\n",
       "      <td>3</td>\n",
       "      <td>3</td>\n",
       "      <td>1</td>\n",
       "      <td>0</td>\n",
       "      <td>0</td>\n",
       "      <td>0</td>\n",
       "      <td>0</td>\n",
       "      <td>0</td>\n",
       "      <td>0</td>\n",
       "      <td>...</td>\n",
       "      <td>0</td>\n",
       "      <td>0</td>\n",
       "      <td>0</td>\n",
       "      <td>0</td>\n",
       "      <td>0</td>\n",
       "      <td>0</td>\n",
       "      <td>0</td>\n",
       "      <td>0</td>\n",
       "      <td>0</td>\n",
       "      <td>0</td>\n",
       "    </tr>\n",
       "    <tr>\n",
       "      <th>3</th>\n",
       "      <td>1100</td>\n",
       "      <td>3</td>\n",
       "      <td>3</td>\n",
       "      <td>1</td>\n",
       "      <td>0</td>\n",
       "      <td>0</td>\n",
       "      <td>0</td>\n",
       "      <td>0</td>\n",
       "      <td>0</td>\n",
       "      <td>0</td>\n",
       "      <td>...</td>\n",
       "      <td>0</td>\n",
       "      <td>0</td>\n",
       "      <td>0</td>\n",
       "      <td>0</td>\n",
       "      <td>0</td>\n",
       "      <td>0</td>\n",
       "      <td>0</td>\n",
       "      <td>0</td>\n",
       "      <td>0</td>\n",
       "      <td>0</td>\n",
       "    </tr>\n",
       "    <tr>\n",
       "      <th>4</th>\n",
       "      <td>1020</td>\n",
       "      <td>3</td>\n",
       "      <td>2</td>\n",
       "      <td>1</td>\n",
       "      <td>0</td>\n",
       "      <td>0</td>\n",
       "      <td>0</td>\n",
       "      <td>0</td>\n",
       "      <td>0</td>\n",
       "      <td>0</td>\n",
       "      <td>...</td>\n",
       "      <td>0</td>\n",
       "      <td>0</td>\n",
       "      <td>0</td>\n",
       "      <td>0</td>\n",
       "      <td>0</td>\n",
       "      <td>0</td>\n",
       "      <td>0</td>\n",
       "      <td>0</td>\n",
       "      <td>0</td>\n",
       "      <td>0</td>\n",
       "    </tr>\n",
       "  </tbody>\n",
       "</table>\n",
       "<p>5 rows × 418 columns</p>\n",
       "</div>"
      ],
      "text/plain": [
       "   Area  Bed  Bath  1st Colony Mirpur Dhaka  2nd Colony Mirpur Dhaka  \\\n",
       "0   800    2     2                        1                        0   \n",
       "1   700    2     2                        1                        0   \n",
       "2  1100    3     3                        1                        0   \n",
       "3  1100    3     3                        1                        0   \n",
       "4  1020    3     2                        1                        0   \n",
       "\n",
       "   3rd Colony Mirpur Dhaka  Aainusbag Dakshin Khan Dhaka  \\\n",
       "0                        0                             0   \n",
       "1                        0                             0   \n",
       "2                        0                             0   \n",
       "3                        0                             0   \n",
       "4                        0                             0   \n",
       "\n",
       "   Abdullahbag Uttar Badda Badda Dhaka  \\\n",
       "0                                    0   \n",
       "1                                    0   \n",
       "2                                    0   \n",
       "3                                    0   \n",
       "4                                    0   \n",
       "\n",
       "   Abdur Rafique Housing Society Shekhertek Mohammadpur Dhaka  Adabor Dhaka  \\\n",
       "0                                                  0                      0   \n",
       "1                                                  0                      0   \n",
       "2                                                  0                      0   \n",
       "3                                                  0                      0   \n",
       "4                                                  0                      0   \n",
       "\n",
       "   ...  West Kalachandpur Kalachandpur Dhaka  West Kazipara Mirpur Dhaka  \\\n",
       "0  ...                                     0                           0   \n",
       "1  ...                                     0                           0   \n",
       "2  ...                                     0                           0   \n",
       "3  ...                                     0                           0   \n",
       "4  ...                                     0                           0   \n",
       "\n",
       "   West Mollartek Dakshin Khan Dhaka  West Monipur Mirpur Dhaka  \\\n",
       "0                                  0                          0   \n",
       "1                                  0                          0   \n",
       "2                                  0                          0   \n",
       "3                                  0                          0   \n",
       "4                                  0                          0   \n",
       "\n",
       "   West Nakhalpara Tejgaon Dhaka  West Rampura Rampura Dhaka  \\\n",
       "0                              0                           0   \n",
       "1                              0                           0   \n",
       "2                              0                           0   \n",
       "3                              0                           0   \n",
       "4                              0                           0   \n",
       "\n",
       "   West Shewrapara Mirpur Dhaka  West Vatara Vatara Badda Dhaka  \\\n",
       "0                             0                               0   \n",
       "1                             0                               0   \n",
       "2                             0                               0   \n",
       "3                             0                               0   \n",
       "4                             0                               0   \n",
       "\n",
       "   Zafrabad Hazaribag Dhaka  aziz Moholla Mohammadpur Dhaka  \n",
       "0                         0                               0  \n",
       "1                         0                               0  \n",
       "2                         0                               0  \n",
       "3                         0                               0  \n",
       "4                         0                               0  \n",
       "\n",
       "[5 rows x 418 columns]"
      ]
     },
     "execution_count": 139,
     "metadata": {},
     "output_type": "execute_result"
    }
   ],
   "source": [
    "X = df5.drop(['Price','price_per_sqft'],axis='columns') #Had to drop 'price_per_sqft' because it was confusing the model and giving random negative predictions \n",
    "X.head()"
   ]
  },
  {
   "cell_type": "code",
   "execution_count": null,
   "metadata": {
    "id": "x_JyjbanFsEE",
    "outputId": "4d3a6e2b-a3ec-4968-ec4e-b3467d0c45a5"
   },
   "outputs": [
    {
     "data": {
      "text/plain": [
       "0    13500.0\n",
       "1    12000.0\n",
       "2    20000.0\n",
       "3    20000.0\n",
       "4    15000.0\n",
       "Name: Price, dtype: float64"
      ]
     },
     "execution_count": 140,
     "metadata": {},
     "output_type": "execute_result"
    }
   ],
   "source": [
    "y = df5.Price\n",
    "y.head()"
   ]
  },
  {
   "cell_type": "code",
   "execution_count": null,
   "metadata": {
    "id": "FwEc9yC_FsEE"
   },
   "outputs": [],
   "source": [
    "X_train, X_test, y_train, y_test = train_test_split(X,y,test_size=0.25,random_state=15)"
   ]
  },
  {
   "cell_type": "markdown",
   "metadata": {
    "id": "Wzw5smVDI0I5"
   },
   "source": [
    "# Linear Regression"
   ]
  },
  {
   "cell_type": "code",
   "execution_count": null,
   "metadata": {
    "id": "n6DAmBywFsEE",
    "outputId": "6bcd7bba-5ebc-442d-d945-7eca1203e21d"
   },
   "outputs": [
    {
     "name": "stdout",
     "output_type": "stream",
     "text": [
      "91.49\n"
     ]
    }
   ],
   "source": [
    "lr_clf = LinearRegression()\n",
    "lr_clf.fit(X_train,y_train)\n",
    "p = lr_clf.score(X_test,y_test)\n",
    "print(\"%.2f\" % (p*100))"
   ]
  },
  {
   "cell_type": "code",
   "execution_count": null,
   "metadata": {
    "id": "w8P1DPl3FsEF",
    "outputId": "4ae47215-7068-413c-f884-d725efc8f94d"
   },
   "outputs": [
    {
     "data": {
      "text/plain": [
       "array([0.90588914, 0.90347762, 0.89696636, 0.91398475, 0.89820549])"
      ]
     },
     "execution_count": 143,
     "metadata": {},
     "output_type": "execute_result"
    }
   ],
   "source": [
    "cv = ShuffleSplit(n_splits=5, test_size=0.25, random_state=10)\n",
    "\n",
    "cross_val_score(LinearRegression(), X, y, cv=cv)"
   ]
  },
  {
   "cell_type": "markdown",
   "metadata": {
    "id": "9Nx181A5IsiI"
   },
   "source": [
    "# Ridge Regression"
   ]
  },
  {
   "cell_type": "code",
   "execution_count": null,
   "metadata": {
    "id": "-sI6w8fNFsEF",
    "outputId": "70d02e36-8daa-422d-f2c0-5994b2e1e5ad"
   },
   "outputs": [
    {
     "name": "stdout",
     "output_type": "stream",
     "text": [
      "91.54\n"
     ]
    }
   ],
   "source": [
    "from sklearn.linear_model import Ridge\n",
    "rdg_clf = Ridge(alpha=1.0)\n",
    "rdg_clf.fit(X_train,y_train)\n",
    "p = rdg_clf.score(X_test,y_test)\n",
    "print(\"%.2f\" % (p*100))"
   ]
  },
  {
   "cell_type": "code",
   "execution_count": null,
   "metadata": {
    "id": "reW8M88_FsEF",
    "outputId": "dbc736e6-80dc-4124-dff0-03736cf20d33"
   },
   "outputs": [
    {
     "data": {
      "text/plain": [
       "array([0.90683718, 0.90336858, 0.89706706, 0.91393935, 0.89846565])"
      ]
     },
     "execution_count": 145,
     "metadata": {},
     "output_type": "execute_result"
    }
   ],
   "source": [
    "cv = ShuffleSplit(n_splits=5, test_size=0.25, random_state=10)\n",
    "\n",
    "cross_val_score(Ridge(), X, y, cv=cv)"
   ]
  },
  {
   "cell_type": "markdown",
   "metadata": {
    "id": "eQd_RcDyIho-"
   },
   "source": [
    "# Bayesian Regression "
   ]
  },
  {
   "cell_type": "code",
   "execution_count": null,
   "metadata": {
    "id": "rDUef-ZHFsEG",
    "outputId": "660e582c-0a4b-4512-d690-673229bf0ad4"
   },
   "outputs": [
    {
     "name": "stdout",
     "output_type": "stream",
     "text": [
      "91.52\n"
     ]
    }
   ],
   "source": [
    "from sklearn import linear_model\n",
    "br_clf = linear_model.BayesianRidge()\n",
    "br_clf.fit(X_train,y_train)\n",
    "p = br_clf.score(X_test,y_test)\n",
    "print(\"%.2f\" % (p*100))"
   ]
  },
  {
   "cell_type": "code",
   "execution_count": null,
   "metadata": {
    "id": "uVuCDbEGFsEG",
    "outputId": "8428b573-eac3-4487-a49e-a8487c210489"
   },
   "outputs": [
    {
     "data": {
      "text/plain": [
       "array([0.90635946, 0.90351694, 0.89707026, 0.91405138, 0.89836828])"
      ]
     },
     "execution_count": 147,
     "metadata": {},
     "output_type": "execute_result"
    }
   ],
   "source": [
    "cv = ShuffleSplit(n_splits=5, test_size=0.25, random_state=10)\n",
    "\n",
    "cross_val_score(linear_model.BayesianRidge(), X, y, cv=cv)"
   ]
  },
  {
   "cell_type": "markdown",
   "metadata": {
    "id": "ps-nT4v2IYO2"
   },
   "source": [
    "# Lasso Regression"
   ]
  },
  {
   "cell_type": "code",
   "execution_count": null,
   "metadata": {
    "id": "YyYQDrgEFsEG",
    "outputId": "be069724-db91-49fd-9d74-cd9c173e028b"
   },
   "outputs": [
    {
     "name": "stdout",
     "output_type": "stream",
     "text": [
      "91.49\n"
     ]
    }
   ],
   "source": [
    "from sklearn.linear_model import Lasso\n",
    "las_clf = Lasso(alpha=0.1)\n",
    "las_clf.fit(X_train,y_train)\n",
    "p = las_clf.score(X_test,y_test)\n",
    "print(\"%.2f\" % (p*100))"
   ]
  },
  {
   "cell_type": "code",
   "execution_count": null,
   "metadata": {
    "id": "6h2F9NV5FsEH",
    "outputId": "241d7e37-ebea-417e-fada-69694a3e222e"
   },
   "outputs": [
    {
     "data": {
      "text/plain": [
       "array([0.90524293, 0.90280499, 0.89606376, 0.91340253, 0.89731934])"
      ]
     },
     "execution_count": 149,
     "metadata": {},
     "output_type": "execute_result"
    }
   ],
   "source": [
    "cv = ShuffleSplit(n_splits=5, test_size=0.25, random_state=10)\n",
    "\n",
    "cross_val_score(Lasso(), X, y, cv=cv)"
   ]
  },
  {
   "cell_type": "markdown",
   "metadata": {
    "id": "XUZvDreHF2iY"
   },
   "source": [
    "# Lets test how well the model works "
   ]
  },
  {
   "cell_type": "code",
   "execution_count": null,
   "metadata": {
    "id": "s6TREJsgFsEH"
   },
   "outputs": [],
   "source": [
    "def predict_price(Location,Area,Bed,Bath):    \n",
    "    index = np.where(X.columns == Location)[0][0]\n",
    "\n",
    "    x = np.zeros(len(X.columns))\n",
    "    x[0] = Area\n",
    "    x[1] = Bed\n",
    "    x[2] = Bath\n",
    "    if index >= 0:\n",
    "        x[index] = 1\n",
    "\n",
    "    return rdg_clf.predict([x])[0] #Ridge Regression got the best accuracy "
   ]
  },
  {
   "cell_type": "code",
   "execution_count": null,
   "metadata": {
    "id": "aV7sSBd0FsEI",
    "outputId": "120800dd-2fb4-4553-91a5-92cdf18e63e8"
   },
   "outputs": [
    {
     "data": {
      "text/plain": [
       "17928.242191755104"
      ]
     },
     "execution_count": 158,
     "metadata": {},
     "output_type": "execute_result"
    }
   ],
   "source": [
    "#My family used to live in this area in a 1100 sqft appertment with 3 beds and 3 baths. And the rent was 16500 Taka\n",
    "predict_price('Matikata Cantonment Dhaka',1250, 3, 3)"
   ]
  },
  {
   "cell_type": "code",
   "execution_count": null,
   "metadata": {
    "id": "XFDlCgh-FsEI",
    "outputId": "794ba385-0912-43f8-9ef9-7d3deb343a32"
   },
   "outputs": [
    {
     "data": {
      "text/plain": [
       "20815.46440534888"
      ]
     },
     "execution_count": 159,
     "metadata": {},
     "output_type": "execute_result"
    }
   ],
   "source": [
    "predict_price('Mirpur Dhaka',1250, 3, 3)"
   ]
  },
  {
   "cell_type": "code",
   "execution_count": null,
   "metadata": {
    "id": "MREjc0qOFsEI",
    "outputId": "ff9f7de6-f34a-46ab-e08f-465464ad4f4e"
   },
   "outputs": [
    {
     "data": {
      "text/plain": [
       "103770.068479101"
      ]
     },
     "execution_count": 160,
     "metadata": {},
     "output_type": "execute_result"
    }
   ],
   "source": [
    "predict_price('Gulshan 2 Gulshan Dhaka',2000, 3, 3)"
   ]
  },
  {
   "cell_type": "code",
   "execution_count": null,
   "metadata": {
    "id": "Fxw1MKi8FsEI",
    "outputId": "f3e6eab5-64a1-4cdb-e896-6c1660e769d2"
   },
   "outputs": [
    {
     "data": {
      "text/plain": [
       "21299.93883235362"
      ]
     },
     "execution_count": 161,
     "metadata": {},
     "output_type": "execute_result"
    }
   ],
   "source": [
    "predict_price('Badda Dhaka',1000, 2, 2)"
   ]
  }
 ],
 "metadata": {
  "colab": {
   "collapsed_sections": [],
   "name": "Dhaka_House_Rent_Prediction.ipynb",
   "provenance": []
  },
  "kernelspec": {
   "display_name": "Python 3",
   "language": "python",
   "name": "python3"
  },
  "language_info": {
   "codemirror_mode": {
    "name": "ipython",
    "version": 3
   },
   "file_extension": ".py",
   "mimetype": "text/x-python",
   "name": "python",
   "nbconvert_exporter": "python",
   "pygments_lexer": "ipython3",
   "version": "3.8.3"
  }
 },
 "nbformat": 4,
 "nbformat_minor": 1
}
